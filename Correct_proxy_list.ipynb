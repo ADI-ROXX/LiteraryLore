{
 "cells": [
  {
   "cell_type": "code",
   "execution_count": 1,
   "id": "80b4b184",
   "metadata": {},
   "outputs": [],
   "source": [
    "import queue\n",
    "import requests\n",
    "import threading\n",
    "from bs4 import BeautifulSoup\n"
   ]
  },
  {
   "cell_type": "code",
   "execution_count": 2,
   "id": "b1704685",
   "metadata": {},
   "outputs": [],
   "source": [
    "f=open(\"proxy.txt\",\"r\")\n",
    "proxies=f.readlines()"
   ]
  },
  {
   "cell_type": "code",
   "execution_count": 3,
   "id": "68ff4f02",
   "metadata": {},
   "outputs": [],
   "source": [
    "q=queue.LifoQueue()\n",
    "final_proxies=open(\"correct_proxies.txt\",\"w\")\n"
   ]
  },
  {
   "cell_type": "code",
   "execution_count": 4,
   "id": "f0eff771",
   "metadata": {},
   "outputs": [],
   "source": [
    "for p in proxies:\n",
    "    q.put(p[:-1])\n"
   ]
  },
  {
   "cell_type": "code",
   "execution_count": 5,
   "id": "3f58057e",
   "metadata": {},
   "outputs": [],
   "source": [
    "def threaded():\n",
    "    global q;\n",
    "    while not q.empty():\n",
    "        try:\n",
    "            proxy=q.get();\n",
    "\n",
    "            res=requests.get(\"https://free-proxy-list.net/\",\n",
    "                            proxies={\n",
    "                                \"http\":proxy,\n",
    "                                \"https:\":proxy\n",
    "                            },timeout=2)\n",
    "            soup = BeautifulSoup(res.content, 'html5lib') # If this line causes an error, run 'pip install html5lib' or install html5lib\n",
    "\n",
    "        except:\n",
    "            print(\"hello\")\n",
    "            continue\n",
    "        finally:\n",
    "            if(res.status_code==200):\n",
    "                print(proxy)\n",
    "                final_proxies.write(proxy+\"\\n\")\n",
    "        "
   ]
  },
  {
   "cell_type": "code",
   "execution_count": 6,
   "id": "6cc45078",
   "metadata": {
    "scrolled": true
   },
   "outputs": [
    {
     "name": "stdout",
     "output_type": "stream",
     "text": [
      "50.206.25.106:80\n",
      "50.168.72.118:80\n",
      "50.239.72.19:80\n",
      "50.206.111.90:80\n",
      "50.174.7.159:80\n",
      "68.188.59.198:80\n",
      "50.174.145.15:80\n",
      "50.168.49.107:80\n",
      "50.174.7.153:8050.168.163.166:80\n",
      "\n",
      "50.170.90.26:80\n",
      "107.1.93.214:80\n",
      "50.172.75.122:80\n",
      "50.222.245.44:80\n",
      "50.206.25.108:80\n",
      "107.1.93.210:80\n",
      "50.168.210.238:80\n",
      "50.171.2.9:80\n",
      "50.219.106.84:80\n",
      "50.204.219.224:80\n",
      "50.206.111.89:80\n",
      "107.1.93.217:80\n",
      "50.168.72.116:80\n",
      "50.168.72.112:80\n",
      "50.206.25.105:80\n",
      "50.171.2.10:80\n",
      "50.239.72.17:80\n",
      "50.207.199.85:80\n",
      "50.168.72.117:80\n",
      "50.218.57.68:80\n",
      "35.236.207.242:33333\n",
      "50.207.199.80:80\n",
      "50.169.62.107:80\n",
      "50.171.1.222:80\n",
      "152.228.217.116:80\n",
      "45.135.165.170:8080\n",
      "82.119.96.254:80\n",
      "47.56.110.204:898961.7.184.16:8080\n",
      "\n",
      "50.168.49.106:80\n",
      "107.1.93.209:80\n",
      "117.54.11.236:3128\n",
      "194.182.178.90:3128\n",
      "107.1.93.220:80\n",
      "50.228.141.96:80\n",
      "50.228.83.226:80\n",
      "41.230.216.70:80\n",
      "50.228.141.98:80\n",
      "50.219.106.74:80\n",
      "107.1.93.223:80\n",
      "50.207.199.81:80\n",
      "50.204.219.227:80\n",
      "83.136.219.140:80\n",
      "50.168.163.181:80\n",
      "50.228.141.103:80\n",
      "78.138.126.6:3128\n",
      "107.1.93.212:80\n",
      "41.207.187.178:80\n",
      "50.168.72.119:80\n",
      "103.197.251.202:80\n",
      "181.65.200.53:80187.217.54.84:80\n",
      "\n",
      "77.106.197.182:8181\n",
      "103.77.60.14:80\n",
      "20.205.61.143:80\n",
      "35.209.198.222:80\n",
      "83.240.214.11:8080\n",
      "213.136.101.40:3128\n",
      "123.30.154.171:7777\n",
      "188.166.165.63:8888\n",
      "185.178.47.135:80\n",
      "95.216.164.36:80\n",
      "144.49.99.169:8080\n",
      "59.163.216.158:80\n",
      "147.182.132.21:80\n",
      "139.144.216.249:3128\n",
      "128.199.202.122:3128\n",
      "198.49.68.80:80\n",
      "118.69.134.0:80\n",
      "142.44.210.174:80143.198.228.250:80\n",
      "\n",
      "103.83.232.122:80\n",
      "75.89.101.62:80\n",
      "47.91.95.174:80\n",
      "8.219.97.248:80\n",
      "213.219.198.69:80\n",
      "34.154.161.152:80\n",
      "113.161.131.43:80\n",
      "103.176.14.56:443\n",
      "37.120.189.106:80\n",
      "144.49.99.216:8080\n",
      "138.68.225.200:80\n",
      "85.117.56.91:8080\n",
      "187.103.73.165:5566\n",
      "12.249.236.198:9080\n",
      "103.112.22.22:82\n",
      "179.1.129.94:999\n",
      "201.89.89.34:8080\n",
      "206.62.165.6:999\n",
      "159.65.77.168:8585\n",
      "96.113.158.126:80\n",
      "47.57.137.105:28080\n",
      "50.168.49.105:80\n",
      "50.171.68.130:80\n",
      "50.218.57.74:80\n",
      "123.24.166.59:8080\n",
      "127.0.0.7:80\n",
      "85.8.68.2:80\n",
      "213.33.126.130:80\n",
      "0.0.0.0:80\n",
      "50.223.38.98:80\n",
      "50.202.75.26:80\n",
      "50.172.23.10:80\n",
      "50.218.57.66:80\n",
      "50.217.153.78:80\n",
      "50.170.90.34:80\n",
      "50.217.226.42:80\n",
      "50.217.226.41:80\n",
      "107.1.93.208:80\n",
      "50.219.106.82:80\n",
      "116.0.61.122:3128\n",
      "50.175.31.250:80\n",
      "50.169.175.234:80\n",
      "50.169.62.110:80\n",
      "117.54.114.103:80\n",
      "50.227.121.35:80\n",
      "20.157.194.61:80\n",
      "50.222.245.46:80\n",
      "47.88.3.19:8080\n",
      "50.237.207.186:80\n",
      "50.122.86.118:80\n",
      "59.103.236.88:80\n",
      "50.173.140.149:80\n",
      "209.79.65.132:8080\n",
      "134.195.101.34:8080\n",
      "185.64.208.233:53281\n",
      "50.174.145.8:80\n",
      "51.124.209.11:80\n",
      "162.223.94.164:80\n"
     ]
    }
   ],
   "source": [
    "for i in range(8):\n",
    "    threading.Thread(target=threaded).start()"
   ]
  },
  {
   "cell_type": "code",
   "execution_count": null,
   "id": "eec64068",
   "metadata": {},
   "outputs": [],
   "source": []
  },
  {
   "cell_type": "code",
   "execution_count": 7,
   "id": "39a3b9e0",
   "metadata": {},
   "outputs": [
    {
     "name": "stdout",
     "output_type": "stream",
     "text": [
      "34.23.45.223:80\n",
      "103.49.202.252:80\n",
      "138.68.60.8:8080\n"
     ]
    },
    {
     "name": "stderr",
     "output_type": "stream",
     "text": [
      "Exception in thread Thread-8:\n",
      "Traceback (most recent call last):\n",
      "  File \"/Users/adityaruhela/anaconda3/envs/torch/lib/python3.9/threading.py\", line 980, in _bootstrap_inner\n",
      "    self.run()\n",
      "  File \"/Users/adityaruhela/anaconda3/envs/torch/lib/python3.9/threading.py\", line 917, in run\n",
      "    self._target(*self._args, **self._kwargs)\n",
      "  File \"/var/folders/63/2gnzxxd10lv3m734r72wrw3c0000gn/T/ipykernel_2115/1417528703.py\", line 20, in threaded\n",
      "ValueError: I/O operation on closed file.\n",
      "Exception in thread Thread-11:\n",
      "Traceback (most recent call last):\n",
      "  File \"/Users/adityaruhela/anaconda3/envs/torch/lib/python3.9/threading.py\", line 980, in _bootstrap_inner\n",
      "    self.run()\n",
      "  File \"/Users/adityaruhela/anaconda3/envs/torch/lib/python3.9/threading.py\", line 917, in run\n",
      "    self._target(*self._args, **self._kwargs)\n",
      "  File \"/var/folders/63/2gnzxxd10lv3m734r72wrw3c0000gn/T/ipykernel_2115/1417528703.py\", line 20, in threaded\n",
      "ValueError: I/O operation on closed file.\n",
      "Exception in thread Thread-7:\n",
      "Traceback (most recent call last):\n",
      "  File \"/Users/adityaruhela/anaconda3/envs/torch/lib/python3.9/threading.py\", line 980, in _bootstrap_inner\n"
     ]
    },
    {
     "name": "stdout",
     "output_type": "stream",
     "text": [
      "80.240.130.161:8888\n",
      "103.139.144.242:8080\n"
     ]
    },
    {
     "name": "stderr",
     "output_type": "stream",
     "text": [
      "    self.run()\n",
      "  File \"/Users/adityaruhela/anaconda3/envs/torch/lib/python3.9/threading.py\", line 917, in run\n",
      "    self._target(*self._args, **self._kwargs)\n",
      "  File \"/var/folders/63/2gnzxxd10lv3m734r72wrw3c0000gn/T/ipykernel_2115/1417528703.py\", line 20, in threaded\n",
      "ValueError: I/O operation on closed file.\n",
      "Exception in thread Thread-6:\n",
      "Traceback (most recent call last):\n",
      "  File \"/Users/adityaruhela/anaconda3/envs/torch/lib/python3.9/threading.py\", line 980, in _bootstrap_inner\n",
      "    self.run()\n",
      "  File \"/Users/adityaruhela/anaconda3/envs/torch/lib/python3.9/threading.py\", line 917, in run\n",
      "    self._target(*self._args, **self._kwargs)\n",
      "  File \"/var/folders/63/2gnzxxd10lv3m734r72wrw3c0000gn/T/ipykernel_2115/1417528703.py\", line 20, in threaded\n",
      "ValueError: I/O operation on closed file.\n"
     ]
    },
    {
     "name": "stdout",
     "output_type": "stream",
     "text": [
      "96.80.235.1:8080\n"
     ]
    },
    {
     "name": "stderr",
     "output_type": "stream",
     "text": [
      "Exception in thread Thread-5:\n",
      "Traceback (most recent call last):\n",
      "  File \"/Users/adityaruhela/anaconda3/envs/torch/lib/python3.9/threading.py\", line 980, in _bootstrap_inner\n",
      "    self.run()\n",
      "  File \"/Users/adityaruhela/anaconda3/envs/torch/lib/python3.9/threading.py\", line 917, in run\n",
      "    self._target(*self._args, **self._kwargs)\n",
      "  File \"/var/folders/63/2gnzxxd10lv3m734r72wrw3c0000gn/T/ipykernel_2115/1417528703.py\", line 20, in threaded\n",
      "ValueError: I/O operation on closed file.\n"
     ]
    },
    {
     "name": "stdout",
     "output_type": "stream",
     "text": [
      "71.86.129.131:8080\n"
     ]
    },
    {
     "name": "stderr",
     "output_type": "stream",
     "text": [
      "Exception in thread Thread-10:\n",
      "Traceback (most recent call last):\n",
      "  File \"/Users/adityaruhela/anaconda3/envs/torch/lib/python3.9/threading.py\", line 980, in _bootstrap_inner\n",
      "    self.run()\n",
      "  File \"/Users/adityaruhela/anaconda3/envs/torch/lib/python3.9/threading.py\", line 917, in run\n",
      "Exception in thread Thread-9:\n",
      "Traceback (most recent call last):\n",
      "  File \"/Users/adityaruhela/anaconda3/envs/torch/lib/python3.9/threading.py\", line 980, in _bootstrap_inner\n",
      "    self._target(*self._args, **self._kwargs)\n",
      "  File \"/var/folders/63/2gnzxxd10lv3m734r72wrw3c0000gn/T/ipykernel_2115/1417528703.py\", line 20, in threaded\n",
      "    self.run()\n",
      "  File \"/Users/adityaruhela/anaconda3/envs/torch/lib/python3.9/threading.py\", line 917, in run\n",
      "    self._target(*self._args, **self._kwargs)\n",
      "  File \"/var/folders/63/2gnzxxd10lv3m734r72wrw3c0000gn/T/ipykernel_2115/1417528703.py\", line 20, in threaded\n",
      "ValueError: I/O operation on closed file.\n",
      "ValueError: I/O operation on closed file.\n"
     ]
    },
    {
     "name": "stdout",
     "output_type": "stream",
     "text": [
      "109.195.23.223:34031\n",
      "103.127.1.130:80\n"
     ]
    },
    {
     "name": "stderr",
     "output_type": "stream",
     "text": [
      "Exception in thread Thread-12:\n",
      "Traceback (most recent call last):\n",
      "  File \"/Users/adityaruhela/anaconda3/envs/torch/lib/python3.9/threading.py\", line 980, in _bootstrap_inner\n",
      "    self.run()\n",
      "  File \"/Users/adityaruhela/anaconda3/envs/torch/lib/python3.9/threading.py\", line 917, in run\n",
      "    self._target(*self._args, **self._kwargs)\n",
      "  File \"/var/folders/63/2gnzxxd10lv3m734r72wrw3c0000gn/T/ipykernel_2115/1417528703.py\", line 20, in threaded\n",
      "ValueError: I/O operation on closed file.\n"
     ]
    },
    {
     "name": "stdout",
     "output_type": "stream",
     "text": [
      "41.85.116.0:8080\n"
     ]
    }
   ],
   "source": [
    "final_proxies.close()"
   ]
  },
  {
   "cell_type": "code",
   "execution_count": null,
   "id": "82b308ff",
   "metadata": {},
   "outputs": [],
   "source": []
  },
  {
   "cell_type": "code",
   "execution_count": 7,
   "id": "abfd0166",
   "metadata": {},
   "outputs": [
    {
     "data": {
      "text/plain": [
       "0"
      ]
     },
     "execution_count": 7,
     "metadata": {},
     "output_type": "execute_result"
    }
   ],
   "source": [
    "q.qsize()"
   ]
  },
  {
   "cell_type": "code",
   "execution_count": 19,
   "id": "4c68b1bc",
   "metadata": {},
   "outputs": [
    {
     "ename": "KeyboardInterrupt",
     "evalue": "",
     "output_type": "error",
     "traceback": [
      "\u001b[0;31m---------------------------------------------------------------------------\u001b[0m",
      "\u001b[0;31mKeyboardInterrupt\u001b[0m                         Traceback (most recent call last)",
      "Cell \u001b[0;32mIn[19], line 1\u001b[0m\n\u001b[0;32m----> 1\u001b[0m \u001b[43mq\u001b[49m\u001b[38;5;241;43m.\u001b[39;49m\u001b[43mget\u001b[49m\u001b[43m(\u001b[49m\u001b[43m)\u001b[49m\n",
      "File \u001b[0;32m~/anaconda3/envs/torch/lib/python3.9/queue.py:171\u001b[0m, in \u001b[0;36mQueue.get\u001b[0;34m(self, block, timeout)\u001b[0m\n\u001b[1;32m    169\u001b[0m \u001b[38;5;28;01melif\u001b[39;00m timeout \u001b[38;5;129;01mis\u001b[39;00m \u001b[38;5;28;01mNone\u001b[39;00m:\n\u001b[1;32m    170\u001b[0m     \u001b[38;5;28;01mwhile\u001b[39;00m \u001b[38;5;129;01mnot\u001b[39;00m \u001b[38;5;28mself\u001b[39m\u001b[38;5;241m.\u001b[39m_qsize():\n\u001b[0;32m--> 171\u001b[0m         \u001b[38;5;28;43mself\u001b[39;49m\u001b[38;5;241;43m.\u001b[39;49m\u001b[43mnot_empty\u001b[49m\u001b[38;5;241;43m.\u001b[39;49m\u001b[43mwait\u001b[49m\u001b[43m(\u001b[49m\u001b[43m)\u001b[49m\n\u001b[1;32m    172\u001b[0m \u001b[38;5;28;01melif\u001b[39;00m timeout \u001b[38;5;241m<\u001b[39m \u001b[38;5;241m0\u001b[39m:\n\u001b[1;32m    173\u001b[0m     \u001b[38;5;28;01mraise\u001b[39;00m \u001b[38;5;167;01mValueError\u001b[39;00m(\u001b[38;5;124m\"\u001b[39m\u001b[38;5;124m'\u001b[39m\u001b[38;5;124mtimeout\u001b[39m\u001b[38;5;124m'\u001b[39m\u001b[38;5;124m must be a non-negative number\u001b[39m\u001b[38;5;124m\"\u001b[39m)\n",
      "File \u001b[0;32m~/anaconda3/envs/torch/lib/python3.9/threading.py:312\u001b[0m, in \u001b[0;36mCondition.wait\u001b[0;34m(self, timeout)\u001b[0m\n\u001b[1;32m    310\u001b[0m \u001b[38;5;28;01mtry\u001b[39;00m:    \u001b[38;5;66;03m# restore state no matter what (e.g., KeyboardInterrupt)\u001b[39;00m\n\u001b[1;32m    311\u001b[0m     \u001b[38;5;28;01mif\u001b[39;00m timeout \u001b[38;5;129;01mis\u001b[39;00m \u001b[38;5;28;01mNone\u001b[39;00m:\n\u001b[0;32m--> 312\u001b[0m         \u001b[43mwaiter\u001b[49m\u001b[38;5;241;43m.\u001b[39;49m\u001b[43macquire\u001b[49m\u001b[43m(\u001b[49m\u001b[43m)\u001b[49m\n\u001b[1;32m    313\u001b[0m         gotit \u001b[38;5;241m=\u001b[39m \u001b[38;5;28;01mTrue\u001b[39;00m\n\u001b[1;32m    314\u001b[0m     \u001b[38;5;28;01melse\u001b[39;00m:\n",
      "\u001b[0;31mKeyboardInterrupt\u001b[0m: "
     ]
    }
   ],
   "source": [
    "q.get()"
   ]
  },
  {
   "cell_type": "code",
   "execution_count": 8,
   "id": "f4fcdbfa",
   "metadata": {},
   "outputs": [
    {
     "name": "stdout",
     "output_type": "stream",
     "text": [
      "50.217.153.79:80\n",
      "50.217.226.47:80\n",
      "Collecting html5lib\n",
      "50.239.72.16:80\n",
      "62.141.11.68:80\n",
      "50.239.72.18:80\n",
      "50.204.219.230:80\n",
      "50.227.121.33:80\n",
      "  Downloading html5lib-1.1-py2.py3-none-any.whl (112 kB)\n",
      "\u001b[2K     \u001b[38;2;249;38;114m━━━━━━━━━━━━━━━━━━━━━━━━━━━━━━━\u001b[0m\u001b[38;5;237m╺\u001b[0m\u001b[38;5;237m━━━━━━\u001b[0m \u001b[32m92.2/112.2 kB\u001b[0m \u001b[31m854.3 kB/s\u001b[0m eta \u001b[36m0:00:01\u001b[0m:01\u001b[0m62.99.138.162:8050.206.25.106:80\n",
      "\n",
      "71.86.129.131:8080\n",
      "141.95.35.139:80\n",
      "50.168.163.182:80\n",
      "\u001b[2K     \u001b[38;2;114;156;31m━━━━━━━━━━━━━━━━━━━━━━━━━━━━━━━━━━━━━\u001b[0m \u001b[32m112.2/112.2 kB\u001b[0m \u001b[31m914.9 kB/s\u001b[0m eta \u001b[36m0:00:00\u001b[0m\n",
      "\u001b[?25hRequirement already satisfied: six>=1.9 in /Users/adityaruhela/anaconda3/envs/torch/lib/python3.9/site-packages (from html5lib) (1.16.0)\n",
      "Requirement already satisfied: webencodings in /Users/adityaruhela/anaconda3/envs/torch/lib/python3.9/site-packages (from html5lib) (0.5.1)\n",
      "50.219.106.82:80\n",
      "50.168.72.117:80\n",
      "213.33.2.28:80\n",
      "50.171.2.12:80\n",
      "107.1.93.208:80\n",
      "50.173.140.147:80\n",
      "50.217.153.76:80\n",
      "50.202.75.26:80\n",
      "50.227.121.36:80\n",
      "Installing collected packages: html5lib\n",
      "50.168.163.176:80\n",
      "107.1.93.216:80\n",
      "Successfully installed html5lib-1.1\n",
      "50.175.31.250:80\n",
      "50.173.140.146:8050.217.153.74:80\n",
      "\n",
      "50.218.57.66:80\n",
      "50.220.168.134:80\n",
      "50.218.57.74:80\n",
      "50.237.207.186:80\n",
      "50.169.62.114:80\n"
     ]
    }
   ],
   "source": [
    "!pip install html5lib"
   ]
  },
  {
   "cell_type": "code",
   "execution_count": 7,
   "id": "6f86b3d4",
   "metadata": {},
   "outputs": [
    {
     "name": "stdout",
     "output_type": "stream",
     "text": [
      "b'<!DOCTYPE html><html><head><title>Classical Mythology - Mark P. O. Morford, Robert J. Lenardon - Google Books</title><link rel=\"stylesheet\" href=\"/books/css/_abe1358b35489a248fea42b5699e3ac0/kl_about_this_book_kennedy_full_bundle.css\" type=\"text/css\" /><link rel=\"stylesheet\"href=\"https://fonts.googleapis.com/css2?family=Product+Sans:wght@400\"><script src=\"/books/javascript/atb_abe1358b35489a248fea42b5699e3ac0__en.js\"></script><link rel=\"canonical\" href=\"https://books.google.com/books/about/Classical_Mythology.html?id=ecGXcMRAPXcC\"/><meta property=\"og:url\" content=\"https://books.google.com/books/about/Classical_Mythology.html?id=ecGXcMRAPXcC\"/><meta name=\"title\" content=\"Classical Mythology\"/><meta name=\"description\" content=\"Building on the best-selling tradition of previous editions, Classical Mythology, 6/e examines the literary tradition of Greek and Roman mythology through extensive translations of original mythological sources. This comprehensive and accessible introduction to classical mythology incorporatesa dynamic combination of poetic narratives and enlightening commentary to make classical myths come alive for students. The authors&#39; insightful discussions of classical myths in their historical and cultural settings--as well as their survival in literature, art, music, and film--remainunparalleled.  The sixth edition of Classical Mythology features a host of pedagogical aids, including:  - The authors&#39; helpful student study guide, A Companion to Classical Mythology  - A companion website: http: //www.oup-usa.org/sc/0195143388 featuring chapter summaries, short quizzes, maps, additional original translations, links to Perseus and other mythology websites, practice tests, and more!  - Many new translations and a new appendix to Chapter 8 that includes most of Euripides&#39; Hippolytus  - Expanded coverage of comparative and interpretative approaches as well as evidence from art and archaeology  - Copious illustrations--maps, genealogy charts, and reproductions of paintings and sculpture from 750 B.C. to the present--including 22 color plates  - Extended critical coverage  - Quick-Reference Glossary/Index to help students quickly identify names, places, and events\"/><meta property=\"og:title\" content=\"Classical Mythology\"/><meta property=\"og:type\" content=\"book\"/><meta property=\"og:site_name\" content=\"Google Books\"/><meta property=\"og:image\" content=\"https://books.google.co.in/books/content?id=ecGXcMRAPXcC&amp;printsec=frontcover&amp;img=1&amp;zoom=1&amp;edge=curl&amp;imgtk=AFLRE71suS2WpQzitbWsc8gi-IUay7jAsBCkVKtP0JB0AQGDxk90Cx5y9inklVvHw0XU7wAw2loW6Eiuj1J5AsQ6wQPyRN0LFNqMv_L_YBF5aAOJ6XamSYntFawJuobkrGyK42XOHJP8\"/><link rel=\"image_src\" href=\"https://books.google.co.in/books/content?id=ecGXcMRAPXcC&amp;printsec=frontcover&amp;img=1&amp;zoom=1&amp;edge=curl&amp;imgtk=AFLRE71suS2WpQzitbWsc8gi-IUay7jAsBCkVKtP0JB0AQGDxk90Cx5y9inklVvHw0XU7wAw2loW6Eiuj1J5AsQ6wQPyRN0LFNqMv_L_YBF5aAOJ6XamSYntFawJuobkrGyK42XOHJP8\"/><script></script><style>#gbar,#guser{font-size:13px;padding-top:1px !important;}#gbar{height:22px}#guser{padding-bottom:7px !important;text-align:right}.gbh,.gbd{border-top:1px solid #c9d7f1;font-size:1px}.gbh{height:0;position:absolute;top:24px;width:100%}@media all{.gb1{height:22px;margin-right:.5em;vertical-align:top}#gbar{float:left}}a.gb1,a.gb4{text-decoration:underline !important}a.gb1,a.gb4{color:#00c !important}.gbi .gb4{color:#dd8e27 !important}.gbf .gb4{color:#900 !important}\\n\\n#gbar { padding:.3em .6em !important;}</style></head><body  class=\"\"><div id=gbar><nobr><a target=_blank class=gb1 href=\"https://www.google.co.in/search?tab=pw\">Search</a> <a target=_blank class=gb1 href=\"https://www.google.co.in/imghp?hl=en&tab=pi\">Images</a> <a target=_blank class=gb1 href=\"https://maps.google.co.in/maps?hl=en&tab=pl\">Maps</a> <a target=_blank class=gb1 href=\"https://play.google.com/?hl=en&tab=p8\">Play</a> <a target=_blank class=gb1 href=\"https://www.youtube.com/?tab=p1\">YouTube</a> <a target=_blank class=gb1 href=\"https://news.google.com/?tab=pn\">News</a> <a target=_blank class=gb1 href=\"https://mail.google.com/mail/?tab=pm\">Gmail</a> <a target=_blank class=gb1 href=\"https://drive.google.com/?tab=po\">Drive</a> <a target=_blank class=gb1 style=\"text-decoration:none\" href=\"https://www.google.co.in/intl/en/about/products?tab=ph\"><u>More</u> &raquo;</a></nobr></div><div id=guser width=100%><nobr><span id=gbn class=gbi></span><span id=gbf class=gbf></span><span id=gbe></span><a target=_top id=gb_70 href=\"https://www.google.com/accounts/Login?service=print&continue=https://books.google.co.in/books%3Fid%3DecGXcMRAPXcC%26newbks%3D0%26hl%3Den%26redir_esc%3Dy&hl=en&ec=GAZACg\" class=gb4>Sign in</a></nobr></div><div class=gbh style=left:0></div><div class=gbh style=right:0></div><div role=\"alert\" style=\"position: absolute; left: 0; right: 0;\"><a href=\"https://books.google.co.in/books?id=ecGXcMRAPXcC&amp;newbks=0&amp;hl=en&amp;redir_esc=y&amp;output=html_text\" title=\"Screen reader users: click this link for accessible mode. Accessible mode has the same essential features but works better with your reader.\"><img border=\"0\" src=\"//www.google.com/images/cleardot.gif\"alt=\"Screen reader users: click this link for accessible mode. Accessible mode has the same essential features but works better with your reader.\"></a></div><div class=\"kd-appbar\"><h2 class=\"kd-appname\"><a href=\"/books\">Books</a></h2><div class=\"kd-buttonbar left\" id=\"left-toolbar-buttons\"><a id=\"appbar-view-print-sample-link\" href=\"https://books.google.co.in/books?id=ecGXcMRAPXcC&amp;newbks=0&amp;printsec=frontcover&amp;source=gbs_atb\"></a><a id=\"appbar-view-ebook-sample-link\" href=\"\"></a><a id=\"appbar-patents-prior-art-finder-link\" href=\"\"></a><a id=\"appbar-patents-discuss-this-link\" href=\"\" data-is-grant=\"\"></a><a id=\"appbar-read-patent-link\" href=\"\"></a><a id=\"appbar-download-pdf-link\" href=\"\"></a></div><div class=\"kd-buttonbar right\" id=\"right-toolbar-buttons\"></div></div><div style=\"display: none\"><ol id=\"ofe-gear-menu-contents\" class=\"gbmcc\"><li class=\"gbe gbmtc\"><a class=\"gbmt goog-menuitem-content\" id=\"\" href=\"https://www.google.com/accounts/Login?service=print&amp;continue=https://books.google.co.in/books%3Fop%3Dlibrary&amp;hl=en\">My library</a></li><li class=\"gbe gbmtc\"><a class=\"gbmt goog-menuitem-content\" id=\"\" href=\"http://books.google.co.in/support/topic/4359341?hl=en-IN\">Help</a></li><li class=\"gbe gbmtc\"><a class=\"gbmt goog-menuitem-content\" id=\"\" href=\"https://books.google.co.in/advanced_book_search\">Advanced Book Search</a></li></ol></div><div id=\"volume-main\"><div id=\"volume-left\"><div id=menu_container ><div id=\"menu_scroll_wrapper\"><div id=\"menu_scroll\" role=\"navigation\"><div id=\"gb-get-book-container\"><a id=\"gb-get-book-content\" href=\"https://books.google.co.in/books?id=ecGXcMRAPXcC&amp;newbks=0&amp;sitesec=buy&amp;source=gbs_atb\">Get print book</a></div><p id=\"gb-get-book-not-available\">No eBook available<p><h3 class=about_title><a name=\"buy_anchor\"></a></h3><div id=buy class=about_content><div id=buy_v><ul style=\"list-style-type: none; padding-left: 0; margin: 0;\"><li><a style=\"white-space:normal\" href=\"http://www.oup.com/localecatalogue/google/?i=9780195143386\" dir=ltr onMouseOver=\"this.href=\\'http://www.oup.com/localecatalogue/google/?i\\\\x3d9780195143386\\';return false\" onMouseDown=\"this.href=\\'/url?client\\\\x3dca-print-oxford_us\\\\x26format\\\\x3dgoogleprint\\\\x26num\\\\x3d0\\\\x26id\\\\x3decGXcMRAPXcC\\\\x26q\\\\x3dhttp://www.oup.com/localecatalogue/google/%3Fi%3D9780195143386\\\\x26usg\\\\x3dAOvVaw2JUC8W-HSnlRB0v_egrcHm\\\\x26source\\\\x3dgbs_buy_r\\';return true\"><span dir=ltr>Oxford University Press</span></a></li><li><a style=\"white-space:normal\" href=\"http://books.rediff.com/book/ISBN:0195143388\" dir=ltr onMouseOver=\"this.href=\\'http://books.rediff.com/book/ISBN:0195143388\\';return false\" onMouseDown=\"this.href=\\'/url?client\\\\x3dca-print-oxford_us\\\\x26format\\\\x3dgoogleprint\\\\x26num\\\\x3d0\\\\x26id\\\\x3decGXcMRAPXcC\\\\x26q\\\\x3dhttp://books.rediff.com/book/ISBN:0195143388\\\\x26usg\\\\x3dAOvVaw1l6OkMAsXANJnvdDZdrib2\\\\x26source\\\\x3dgbs_buy_r\\';return true\"><span dir=ltr>Rediff Books</span></a></li><li><a style=\"white-space:normal\" href=\"http://www.flipkart.com/search.php?query=0195143388\" dir=ltr onMouseOver=\"this.href=\\'http://www.flipkart.com/search.php?query\\\\x3d0195143388\\';return false\" onMouseDown=\"this.href=\\'/url?client\\\\x3dca-print-oxford_us\\\\x26format\\\\x3dgoogleprint\\\\x26num\\\\x3d0\\\\x26id\\\\x3decGXcMRAPXcC\\\\x26q\\\\x3dhttp://www.flipkart.com/search.php%3Fquery%3D0195143388\\\\x26usg\\\\x3dAOvVaw2HFA64KDg-TTZmQ6pQkcR6\\\\x26source\\\\x3dgbs_buy_r\\';return true\"><span dir=ltr>Flipkart</span></a></li><li><a style=\"white-space:normal\" href=\"http://www.infibeam.com/Books/search?q=9780195143386\" dir=ltr onMouseOver=\"this.href=\\'http://www.infibeam.com/Books/search?q\\\\x3d9780195143386\\';return false\" onMouseDown=\"this.href=\\'/url?client\\\\x3dca-print-oxford_us\\\\x26format\\\\x3dgoogleprint\\\\x26num\\\\x3d0\\\\x26id\\\\x3decGXcMRAPXcC\\\\x26q\\\\x3dhttp://www.infibeam.com/Books/search%3Fq%3D9780195143386\\\\x26usg\\\\x3dAOvVaw3O2bsDsreXXk-scSzyOhxQ\\\\x26source\\\\x3dgbs_buy_r\\';return true\"><span dir=ltr>Infibeam</span></a></li><li><hr style=\"margin-right: 20%; color: #666;\"></li><li><a style=\"white-space:normal\" href=\"https://books.google.co.in/url?id=ecGXcMRAPXcC&amp;q=http://worldcat.org/oclc/1001242491&amp;clientid=librarylink&amp;usg=AOvVaw0h_Jj8GNSYO03FzcDxSgFl&amp;source=gbs_buy_r\"><span dir=ltr>Find in a library</span></a></li><li><a class=\"secondary\" style=\"white-space:normal\" href=\"https://books.google.co.in/books?id=ecGXcMRAPXcC&amp;newbks=0&amp;sitesec=buy&amp;source=gbs_buy_r\" id=\"get-all-sellers-link\"><span dir=ltr>All sellers</span>&nbsp;&raquo;</a></li></ul></div></div><div class=menu id=menu><div class=\"menu_content\" style=\"margin-bottom:6px\"><div style=\"margin-bottom:4px\"></div><div style=\"margin-bottom:3px\"></div><div></div></div></div><div class=\"sidebar-hr\"></div><div class=\"ebook-promo\"><a href=\"https://play.google.com/store/books\"><img border=\"0\" src=\"/googlebooks/images/ebook_promo.png\" /><h3 class=\"section\">Shop for Books on Google Play</h3><p class=\"ebook-promo-description\">Browse the world&#39;s largest eBookstore and start reading today on the web, tablet, phone, or ereader.</p><p class=\"ebook-promo-clickme\">Go to Google Play Now &raquo;</p></a></div><div class=\"sidebar-hr\"></div><div><div id=\"navbarContainer\" class=\"gb-navbar\"></div><script>_OC_InitNavbar({\"child_node\":[{\"title\":\"My library\",\"url\":\"https://books.google.co.in/books?uid=114584440181414684107\\\\u0026source=gbs_lp_bookshelf_list\",\"id\":\"my_library\",\"collapsed\":true},{\"title\":\"My History\",\"url\":\"\",\"id\":\"my_history\",\"collapsed\":true}],\"highlighted_node_id\":\"\"});</script></div></div></div></div></div><div id=\"volume-center\"><div id=\"scroll_atb\" role=\"main\"><div class=vertical_module_list_row><div id=ge_summary class=about_content><div id=ge_summary_v><div class=\"hproduct\"><table id=\"summary_content_table\" cellspacing=0 cellpadding=0><tr><td id=\"bookinfo\"><h1 class=\"booktitle\"><span class=\"fn\"><span dir=ltr>Classical Mythology</span></span><span class=\"subtitle\"></span></h1><div class=\"bookcover\"><a href=\"https://books.google.co.in/books?id=ecGXcMRAPXcC&amp;newbks=0&amp;printsec=frontcover&amp;source=gbs_ge_summary_r&amp;cad=0\" ><img src=\"https://books.google.co.in/books/content?id=ecGXcMRAPXcC&printsec=frontcover&img=1&zoom=1&edge=curl&imgtk=AFLRE724BfVPM4YBMG_NtlYXWtzJP7256GWW1RId10umOyi2CGLHB4EpRPcHs-sBAG0OBiB0_bSxtQK0ImQdfMx257q0S35pXvsp9N0OASEX1C8fftqjRg3bUolX-KPJecPQVgeuiYIS\" alt=\"Front Cover\" title=\"Front Cover\" width=128 border=1 id=summary-frontcover ></a></div><div class=\"bookinfo_sectionwrap\"><div><a href=\"https://www.google.co.in/search?tbo=p&amp;tbm=bks&amp;q=inauthor:%22Mark+P.+O.+Morford%22\" class=\"secondary\"><span dir=ltr>Mark P. O. Morford</span></a>, <a href=\"https://www.google.co.in/search?tbo=p&amp;tbm=bks&amp;q=inauthor:%22Robert+J.+Lenardon%22\" class=\"secondary\"><span dir=ltr>Robert J. Lenardon</span></a></div><div><span dir=ltr>Oxford University Press</span>, 1999 - <a class=\"secondary\" href=\"https://www.google.co.in/search?tbo=p&amp;tbm=bks&amp;q=subject:%22Mythology,+Classical%22&amp;source=gbs_ge_summary_r&amp;cad=0\"><span dir=ltr>Mythology, Classical</span></a> - <span dir=ltr>636 pages</span></div></div><div id=synopsis><div id=synopsis-window><div id=synopsistext dir=ltr class=\"sa\">Building on the best-selling tradition of previous editions, Classical Mythology, 6/e examines the literary tradition of Greek and Roman mythology through extensive translations of original mythological sources. This comprehensive and accessible introduction to classical mythology incorporates<br>a dynamic combination of poetic narratives and enlightening commentary to make classical myths come alive for students. The authors\\' insightful discussions of classical myths in their historical and cultural settings--as well as their survival in literature, art, music, and film--remain<br>unparalleled. <p> The sixth edition of Classical Mythology features a host of pedagogical aids, including: <br> - The authors\\' helpful student study guide, A Companion to Classical Mythology <br> - A companion website: http: //www.oup-usa.org/sc/0195143388 featuring chapter summaries, short quizzes, maps, additional original translations, links to Perseus and other mythology websites, practice tests, and more! <br> - Many new translations and a new appendix to Chapter 8 that includes most of Euripides\\' Hippolytus <br> - Expanded coverage of comparative and interpretative approaches as well as evidence from art and archaeology <br> - Copious illustrations--maps, genealogy charts, and reproductions of paintings and sculpture from 750 B.C. to the present--including 22 color plates <br> - Extended critical coverage <br> - Quick-Reference Glossary/Index to help students quickly identify names, places, and events</div></div></div><div class=\"search_box_wrapper\"><form action=/books id=search_form style=\"margin:0px;padding:0px;\" method=get> <input type=hidden name=\"newbks\" value=\"0\"><input type=hidden name=\"redir_esc\" value=\"y\"><input type=hidden name=\"id\" value=\"ecGXcMRAPXcC\"><table cellpadding=0 cellspacing=0 class=\"swv-table\"><tr><td class=\"swv-td-search\"><span><input id=search_form_input type=text maxlength=1024 class=\"text_flat swv-input-search\" aria-label=\"Search in this book\" name=q value=\"\" title=\"Search inside\" accesskey=i></span></td><td class=\"swv-td-space\"><div>&nbsp;</div></td><td><input type=submit value=\"Search inside\"></td></tr></table><script type=\"text/javascript\">if (window[\\'_OC_autoDir\\']) {_OC_autoDir(\\'search_form_input\\');}</script></form><div id=\"preview-link\"><a href=\"https://books.google.co.in/books?id=ecGXcMRAPXcC&amp;newbks=0&amp;printsec=frontcover\" class=\"primary\"><span dir=ltr>Preview this book</span> &raquo;</a></div></div></td> </tr></table><div id=\"summary-second-column\"></div></div></div></div></div><div class=vertical_module_list_row><h3 class=about_title><a name=\"selected_pages_anchor\"></a>Selected pages</h3><div id=selected_pages class=about_content><div id=selected_pages_v><div class=\"selectedpagesthumbnail\"><a href=\"https://books.google.co.in/books?id=ecGXcMRAPXcC&amp;newbks=0&amp;pg=PA33&amp;source=gbs_selected_pages&amp;cad=1\" ><img src=\"https://books.google.co.in/books/content?id=ecGXcMRAPXcC&amp;pg=PA33&amp;img=1&amp;zoom=1&amp;sig=ACfU3U0igBAAcfEswiYSzQfw2y7H6F0ekg\" alt=\"Page 33\" title=\"Page 33\" height=\"160\" border=\"1\"></a><br/><a class=\"primary\" href=\"https://books.google.co.in/books?id=ecGXcMRAPXcC&amp;newbks=0&amp;pg=PA33&amp;source=gbs_selected_pages&amp;cad=1\" >Page 33</a></div><div class=\"selectedpagesthumbnail\"><a href=\"https://books.google.co.in/books?id=ecGXcMRAPXcC&amp;newbks=0&amp;pg=PR3&amp;source=gbs_selected_pages&amp;cad=1\" ><img src=\"https://books.google.co.in/books/content?id=ecGXcMRAPXcC&amp;pg=PR3&amp;img=1&amp;zoom=1&amp;sig=ACfU3U0Tj4aQ57a6aPkWORaPVy1I4FlHLg\" alt=\"Title Page\" title=\"Title Page\" height=\"160\" border=\"1\"></a><br/><a class=\"primary\" href=\"https://books.google.co.in/books?id=ecGXcMRAPXcC&amp;newbks=0&amp;pg=PR3&amp;source=gbs_selected_pages&amp;cad=1\" >Title Page</a></div><div class=\"selectedpagesthumbnail\"><a href=\"https://books.google.co.in/books?id=ecGXcMRAPXcC&amp;newbks=0&amp;pg=PR7&amp;source=gbs_selected_pages&amp;cad=1\" ><img src=\"https://books.google.co.in/books/content?id=ecGXcMRAPXcC&amp;pg=PR7&amp;img=1&amp;zoom=1&amp;sig=ACfU3U2uYXoH6wUWYAwqQucGBOm6ixR5Kw\" alt=\"Table of Contents\" title=\"Table of Contents\" height=\"160\" border=\"1\"></a><br/><a class=\"primary\" href=\"https://books.google.co.in/books?id=ecGXcMRAPXcC&amp;newbks=0&amp;pg=PR7&amp;source=gbs_selected_pages&amp;cad=1\" >Table of Contents</a></div><div style=\"clear:both;\"></div></div></div></div><div class=vertical_module_list_row><h3 class=about_title><a name=\"toc_anchor\"></a>Contents</h3><div id=toc class=about_content><div id=toc_v><div class=\"first_toc_column\"><div class=\"first_toc_pad\"><table><tr><td class=\"toc_entry\"><div class=\"toc_entry\"><a class=\"primary\" href=\"https://books.google.co.in/books?id=ecGXcMRAPXcC&amp;newbks=0&amp;pg=PA1&amp;source=gbs_toc_r&amp;cad=2\" ><span title=\"INTRODUCTION \" style=\"white-space:nowrap\"><span dir=ltr>INTRODUCTION </span></span></a></div></td><td class=\"toc_number\" align=right>1</td></tr><tr><td class=\"toc_border\">  </td><td class=\"toc_border\"></td></tr><tr><td class=\"toc_entry\"><div class=\"toc_entry\"><a class=\"primary\" href=\"https://books.google.co.in/books?id=ecGXcMRAPXcC&amp;newbks=0&amp;pg=PA33&amp;source=gbs_toc_r&amp;cad=2\" ><span title=\"THE GODS \" style=\"white-space:nowrap\"><span dir=ltr>THE GODS </span></span></a></div></td><td class=\"toc_number\" align=right>33</td></tr><tr><td class=\"toc_border\">  </td><td class=\"toc_border\"></td></tr><tr><td class=\"toc_entry\"><div class=\"toc_entry\"><a class=\"primary\" href=\"https://books.google.co.in/books?id=ecGXcMRAPXcC&amp;newbks=0&amp;pg=PA35&amp;source=gbs_toc_r&amp;cad=2\" ><span title=\"MYTHS OF CREATION \" style=\"white-space:nowrap\"><span dir=ltr>MYTHS OF CREATION </span></span></a></div></td><td class=\"toc_number\" align=right>35</td></tr><tr><td class=\"toc_border\">  </td><td class=\"toc_border\"></td></tr><tr><td class=\"toc_entry\"><div class=\"toc_entry\"><a class=\"primary\" href=\"https://books.google.co.in/books?id=ecGXcMRAPXcC&amp;newbks=0&amp;pg=PA43&amp;source=gbs_toc_r&amp;cad=2\" ><span title=\"The Endymion Sarcophagus marble sarcophagus \" style=\"white-space:nowrap\"><span dir=ltr>The Endymion Sarcophagus marble sarcophagus </span></span></a></div></td><td class=\"toc_number\" align=right>43</td></tr><tr><td class=\"toc_border\">  </td><td class=\"toc_border\"></td></tr><tr><td class=\"toc_entry\"><div class=\"toc_entry\"><a class=\"primary\" href=\"https://books.google.co.in/books?id=ecGXcMRAPXcC&amp;newbks=0&amp;pg=PA50&amp;source=gbs_toc_r&amp;cad=2\" ><span title=\"THE CREATION OF MORTALS \" style=\"white-space:nowrap\"><span dir=ltr>THE CREATION OF MORTALS </span></span></a></div></td><td class=\"toc_number\" align=right>50</td></tr><tr><td class=\"toc_border\">  </td><td class=\"toc_border\"></td></tr><tr><td class=\"toc_entry\"><div class=\"toc_entry\"><a class=\"primary\" href=\"https://books.google.co.in/books?id=ecGXcMRAPXcC&amp;newbks=0&amp;pg=PA70&amp;source=gbs_toc_r&amp;cad=2\" ><span title=\"ZEUS HERA AND THEIR CHILDREN \" style=\"white-space:nowrap\"><span dir=ltr>ZEUS HERA AND THEIR CHILDREN </span></span></a></div></td><td class=\"toc_number\" align=right>70</td></tr><tr><td class=\"toc_border\">  </td><td class=\"toc_border\"></td></tr><tr><td class=\"toc_entry\"><div class=\"toc_entry\"><a class=\"primary\" href=\"https://books.google.co.in/books?id=ecGXcMRAPXcC&amp;newbks=0&amp;pg=PA78&amp;source=gbs_toc_r&amp;cad=2\" ><span title=\"The Return of Hephaestus from an Attic blackfigure \" style=\"white-space:nowrap\"><span dir=ltr>The Return of Hephaestus from an Attic blackfigure </span></span></a></div></td><td class=\"toc_number\" align=right>78</td></tr><tr><td class=\"toc_border\">  </td><td class=\"toc_border\"></td></tr><tr><td class=\"toc_entry\"><div class=\"toc_entry\"><span style=\"white-space:nowrap\"><span dir=ltr>ANTHROPOMORPHISM AND GREEK HUMANISM </span></span></div></td><td class=\"toc_number\" align=right>85</td></tr><tr><td class=\"toc_border\">  </td><td class=\"toc_border\"></td></tr></table></div></div><div class=\"second_toc_column\"><div class=\"second_toc_pad\"><table><tr><td class=\"toc_entry\"><div class=\"toc_entry\"><span style=\"white-space:nowrap\"><span dir=ltr>COLOR PLATES </span></span></div></td><td class=\"toc_number\" align=right>285</td></tr><tr><td class=\"toc_border\">  </td><td class=\"toc_border\"></td></tr><tr><td class=\"toc_entry\"><div class=\"toc_entry\"><span style=\"white-space:nowrap\"><span dir=ltr>following page </span></span></div></td><td class=\"toc_number\" align=right>285</td></tr><tr><td class=\"toc_border\">  </td><td class=\"toc_border\"></td></tr><tr><td class=\"toc_entry\"><div class=\"toc_entry\"><span style=\"white-space:nowrap\"><span dir=ltr>Dionysus kylix by Exekias </span></span></div></td><td class=\"toc_number\" align=right>285</td></tr><tr><td class=\"toc_border\">  </td><td class=\"toc_border\"></td></tr><tr><td class=\"toc_entry\"><div class=\"toc_entry\"><span style=\"white-space:nowrap\"><span dir=ltr>The Death of Sarpedon Athenian redfigure krater by Euphronios 4 Christus Apollo thirdcentury vault mosaic 5 Lycurgus Cup early fourthcentury gl...</span></span></div></td><td class=\"toc_number\" align=right>285</td></tr><tr><td class=\"toc_border\">  </td><td class=\"toc_border\"></td></tr><tr><td class=\"toc_entry\"><div class=\"toc_entry\"><span style=\"white-space:nowrap\"><span dir=ltr>The Feast of the Gods by Giovanni Bellini </span></span></div></td><td class=\"toc_number\" align=right>285</td></tr><tr><td class=\"toc_border\">  </td><td class=\"toc_border\"></td></tr><tr><td class=\"toc_entry\"><div class=\"toc_entry\"><span style=\"white-space:nowrap\"><span dir=ltr>Venus and Adonis by Paolo Veronese </span></span></div></td><td class=\"toc_number\" align=right>285</td></tr><tr><td class=\"toc_border\">  </td><td class=\"toc_border\"></td></tr><tr><td class=\"toc_entry\"><div class=\"toc_entry\"><span style=\"white-space:nowrap\"><span dir=ltr>The Discovery of the Infant Erichthonius by Peter Paul Rubens </span></span></div></td><td class=\"toc_number\" align=right>285</td></tr><tr><td class=\"toc_border\">  </td><td class=\"toc_border\"></td></tr><tr><td class=\"toc_entry\"><div class=\"toc_entry\"><span style=\"white-space:nowrap\"><span dir=ltr>Nessus and Deianeira by Guido Reni </span></span></div></td><td class=\"toc_number\" align=right>285</td></tr><tr><td class=\"toc_border\">  </td><td class=\"toc_border\"></td></tr></table></div></div><br style=\"clear:both;\"/></div><span onclick=\"_OC_setListSectionVisible(\\'toc_h\\', 1)\" class=morelesslink id=toc_hc0 style=\"display:none\"><br>More</span><div id=toc_hd1><div class=\"first_toc_column\"><div class=\"first_toc_pad\"><table><tr><td class=\"toc_entry\"><div class=\"toc_entry\"><span style=\"white-space:nowrap\"><span dir=ltr>POSEIDON SEA DEITIES GROUP DIVINITIES AND MONSTERS </span></span></div></td><td class=\"toc_number\" align=right>98</td></tr><tr><td class=\"toc_border\">  </td><td class=\"toc_border\"></td></tr><tr><td class=\"toc_entry\"><div class=\"toc_entry\"><span style=\"white-space:nowrap\"><span dir=ltr>Nereid by Georges Braque </span></span></div></td><td class=\"toc_number\" align=right>99</td></tr><tr><td class=\"toc_border\">  </td><td class=\"toc_border\"></td></tr><tr><td class=\"toc_entry\"><div class=\"toc_entry\"><span style=\"white-space:nowrap\"><span dir=ltr>ATHENA  </span></span></div></td><td class=\"toc_number\" align=right>105</td></tr><tr><td class=\"toc_border\">  </td><td class=\"toc_border\"></td></tr><tr><td class=\"toc_entry\"><div class=\"toc_entry\"><span style=\"white-space:nowrap\"><span dir=ltr>The Birth of Athena from an Athenian amphora </span></span></div></td><td class=\"toc_number\" align=right>106</td></tr><tr><td class=\"toc_border\">  </td><td class=\"toc_border\"></td></tr><tr><td class=\"toc_entry\"><div class=\"toc_entry\"><span style=\"white-space:nowrap\"><span dir=ltr>Mourning Athena relief from the Acropolis </span></span></div></td><td class=\"toc_number\" align=right>114</td></tr><tr><td class=\"toc_border\">  </td><td class=\"toc_border\"></td></tr><tr><td class=\"toc_entry\"><div class=\"toc_entry\"><span style=\"white-space:nowrap\"><span dir=ltr>APHRODITE AND EROS </span></span></div></td><td class=\"toc_number\" align=right>116</td></tr><tr><td class=\"toc_border\">  </td><td class=\"toc_border\"></td></tr><tr><td class=\"toc_entry\"><div class=\"toc_entry\"><span style=\"white-space:nowrap\"><span dir=ltr>Venus Discovering the Dead Adonis by a Neapolitan follower </span></span></div></td><td class=\"toc_number\" align=right>121</td></tr><tr><td class=\"toc_border\">  </td><td class=\"toc_border\"></td></tr><tr><td class=\"toc_entry\"><div class=\"toc_entry\"><span style=\"white-space:nowrap\"><span dir=ltr>Psyche Is Brought to Olympus by Mercury fresco </span></span></div></td><td class=\"toc_number\" align=right>139</td></tr><tr><td class=\"toc_border\">  </td><td class=\"toc_border\"></td></tr><tr><td class=\"toc_entry\"><div class=\"toc_entry\"><span style=\"white-space:nowrap\"><span dir=ltr>ARTEMIS </span></span></div></td><td class=\"toc_number\" align=right>141</td></tr><tr><td class=\"toc_border\">  </td><td class=\"toc_border\"></td></tr><tr><td class=\"toc_entry\"><div class=\"toc_entry\"><span style=\"white-space:nowrap\"><span dir=ltr>The Death of Actaeon from an Athenian krater by the Pan Painter </span></span></div></td><td class=\"toc_number\" align=right>145</td></tr><tr><td class=\"toc_border\">  </td><td class=\"toc_border\"></td></tr><tr><td class=\"toc_entry\"><div class=\"toc_entry\"><span style=\"white-space:nowrap\"><span dir=ltr>EURIPIDES HIPPOLYTUS </span></span></div></td><td class=\"toc_number\" align=right>150</td></tr><tr><td class=\"toc_border\">  </td><td class=\"toc_border\"></td></tr><tr><td class=\"toc_entry\"><div class=\"toc_entry\"><span style=\"white-space:nowrap\"><span dir=ltr>APOLLO </span></span></div></td><td class=\"toc_number\" align=right>163</td></tr><tr><td class=\"toc_border\">  </td><td class=\"toc_border\"></td></tr><tr><td class=\"toc_entry\"><div class=\"toc_entry\"><span style=\"white-space:nowrap\"><span dir=ltr>Apollo and Daphne attributed to Antonio del Pollaiuolo </span></span></div></td><td class=\"toc_number\" align=right>174</td></tr><tr><td class=\"toc_border\">  </td><td class=\"toc_border\"></td></tr><tr><td class=\"toc_entry\"><div class=\"toc_entry\"><span style=\"white-space:nowrap\"><span dir=ltr>Apollo from the temple of Zeus at Olympia </span></span></div></td><td class=\"toc_number\" align=right>181</td></tr><tr><td class=\"toc_border\">  </td><td class=\"toc_border\"></td></tr><tr><td class=\"toc_entry\"><div class=\"toc_entry\"><span style=\"white-space:nowrap\"><span dir=ltr>THE HOMERIC HYMN TO APOLLO </span></span></div></td><td class=\"toc_number\" align=right>182</td></tr><tr><td class=\"toc_border\">  </td><td class=\"toc_border\"></td></tr><tr><td class=\"toc_entry\"><div class=\"toc_entry\"><span style=\"white-space:nowrap\"><span dir=ltr>HERMES </span></span></div></td><td class=\"toc_number\" align=right>189</td></tr><tr><td class=\"toc_border\">  </td><td class=\"toc_border\"></td></tr><tr><td class=\"toc_entry\"><div class=\"toc_entry\"><span style=\"white-space:nowrap\"><span dir=ltr>Mercury by Giovanni Bologna </span></span></div></td><td class=\"toc_number\" align=right>201</td></tr><tr><td class=\"toc_border\">  </td><td class=\"toc_border\"></td></tr><tr><td class=\"toc_entry\"><div class=\"toc_entry\"><span style=\"white-space:nowrap\"><span dir=ltr>DIONYSUS PAN ECHO AND NARCISSUS </span></span></div></td><td class=\"toc_number\" align=right>209</td></tr><tr><td class=\"toc_border\">  </td><td class=\"toc_border\"></td></tr><tr><td class=\"toc_entry\"><div class=\"toc_entry\"><span style=\"white-space:nowrap\"><span dir=ltr>Maenad from an Attic kylix by the Brygos Painter </span></span></div></td><td class=\"toc_number\" align=right>223</td></tr><tr><td class=\"toc_border\">  </td><td class=\"toc_border\"></td></tr><tr><td class=\"toc_entry\"><div class=\"toc_entry\"><span style=\"white-space:nowrap\"><span dir=ltr>DEMETER AND THE ELEUSINIAN MYSTERIES </span></span></div></td><td class=\"toc_number\" align=right>233</td></tr><tr><td class=\"toc_border\">  </td><td class=\"toc_border\"></td></tr><tr><td class=\"toc_entry\"><div class=\"toc_entry\"><span style=\"white-space:nowrap\"><span dir=ltr>Demeter cultstatue from Cnidus </span></span></div></td><td class=\"toc_number\" align=right>234</td></tr><tr><td class=\"toc_border\">  </td><td class=\"toc_border\"></td></tr><tr><td class=\"toc_entry\"><div class=\"toc_entry\"><span style=\"white-space:nowrap\"><span dir=ltr>Hades and Persephone relief from Locri </span></span></div></td><td class=\"toc_number\" align=right>241</td></tr><tr><td class=\"toc_border\">  </td><td class=\"toc_border\"></td></tr><tr><td class=\"toc_entry\"><div class=\"toc_entry\"><span style=\"white-space:nowrap\"><span dir=ltr>THE REALM OF HADES </span></span></div></td><td class=\"toc_number\" align=right>250</td></tr><tr><td class=\"toc_border\">  </td><td class=\"toc_border\"></td></tr><tr><td class=\"toc_entry\"><div class=\"toc_entry\"><span style=\"white-space:nowrap\"><span dir=ltr>The Underworld Apulian redfigure krater by the Underworld painter </span></span></div></td><td class=\"toc_number\" align=right>261</td></tr><tr><td class=\"toc_border\">  </td><td class=\"toc_border\"></td></tr><tr><td class=\"toc_entry\"><div class=\"toc_entry\"><span style=\"white-space:nowrap\"><span dir=ltr>MYSTERY RELIGIONS IN ROMAN TIMES </span></span></div></td><td class=\"toc_number\" align=right>273</td></tr><tr><td class=\"toc_border\">  </td><td class=\"toc_border\"></td></tr><tr><td class=\"toc_entry\"><div class=\"toc_entry\"><span style=\"white-space:nowrap\"><span dir=ltr>Orpheus Eurydice and Hermes Roman copy of a fifthcentury </span></span></div></td><td class=\"toc_number\" align=right>275</td></tr><tr><td class=\"toc_border\">  </td><td class=\"toc_border\"></td></tr></table></div></div><div class=\"second_toc_column\"><div class=\"second_toc_pad\"><table><tr><td class=\"toc_entry\"><div class=\"toc_entry\"><span style=\"white-space:nowrap\"><span dir=ltr>THE THEBAN SAGA </span></span></div></td><td class=\"toc_number\" align=right>289</td></tr><tr><td class=\"toc_border\">  </td><td class=\"toc_border\"></td></tr><tr><td class=\"toc_entry\"><div class=\"toc_entry\"><span style=\"white-space:nowrap\"><span dir=ltr>The Rape of Europa metope from Selinus </span></span></div></td><td class=\"toc_number\" align=right>292</td></tr><tr><td class=\"toc_border\">  </td><td class=\"toc_border\"></td></tr><tr><td class=\"toc_entry\"><div class=\"toc_entry\"><span style=\"white-space:nowrap\"><span dir=ltr>Oedipus Rex by Max Ernst </span></span></div></td><td class=\"toc_number\" align=right>304</td></tr><tr><td class=\"toc_border\">  </td><td class=\"toc_border\"></td></tr><tr><td class=\"toc_entry\"><div class=\"toc_entry\"><span style=\"white-space:nowrap\"><span dir=ltr>THE MYCENAEAN SAGA </span></span></div></td><td class=\"toc_number\" align=right>317</td></tr><tr><td class=\"toc_border\">  </td><td class=\"toc_border\"></td></tr><tr><td class=\"toc_entry\"><div class=\"toc_entry\"><span style=\"white-space:nowrap\"><span dir=ltr>The Death of Agamemnon Attic redfigure krater </span></span></div></td><td class=\"toc_number\" align=right>325</td></tr><tr><td class=\"toc_border\">  </td><td class=\"toc_border\"></td></tr><tr><td class=\"toc_entry\"><div class=\"toc_entry\"><span style=\"white-space:nowrap\"><span dir=ltr>following page </span></span></div></td><td class=\"toc_number\" align=right>347</td></tr><tr><td class=\"toc_border\">  </td><td class=\"toc_border\"></td></tr><tr><td class=\"toc_entry\"><div class=\"toc_entry\"><span style=\"white-space:nowrap\"><span dir=ltr>Cephalus and Aurora by Nicolas Poussin 13 The Forge of Vulcan by Diego Vel\\xe1zquez 14 The Triumph of Neptune and Amphitrite by Nicolas Pouss...</span></span></div></td><td class=\"toc_number\" align=right>347</td></tr><tr><td class=\"toc_border\">  </td><td class=\"toc_border\"></td></tr><tr><td class=\"toc_entry\"><div class=\"toc_entry\"><span style=\"white-space:nowrap\"><span dir=ltr>Vertumnus and Pomona by Fran\\xe7ois Boucher </span></span></div></td><td class=\"toc_number\" align=right>347</td></tr><tr><td class=\"toc_border\">  </td><td class=\"toc_border\"></td></tr><tr><td class=\"toc_entry\"><div class=\"toc_entry\"><span style=\"white-space:nowrap\"><span dir=ltr>Ariadne Asleep on the Island of Naxos by John Vanderlyn </span></span></div></td><td class=\"toc_number\" align=right>347</td></tr><tr><td class=\"toc_border\">  </td><td class=\"toc_border\"></td></tr><tr><td class=\"toc_entry\"><div class=\"toc_entry\"><span style=\"white-space:nowrap\"><span dir=ltr>Pandora by Odilon Redon 19 Demeter by Jean Arp 20 Icarus by Henri Matisse 21 Hector and Andromache by Giorgio de Chirico 22 Landscape for ...</span></span></div></td><td class=\"toc_number\" align=right>347</td></tr><tr><td class=\"toc_border\">  </td><td class=\"toc_border\"></td></tr><tr><td class=\"toc_entry\"><div class=\"toc_entry\"><span style=\"white-space:nowrap\"><span dir=ltr>THE TROJAN SAGA AND THE ILIAD </span></span></div></td><td class=\"toc_number\" align=right>348</td></tr><tr><td class=\"toc_border\">  </td><td class=\"toc_border\"></td></tr><tr><td class=\"toc_entry\"><div class=\"toc_entry\"><span style=\"white-space:nowrap\"><span dir=ltr>The Judgment of Paris by Lucas Cranach the Elder </span></span></div></td><td class=\"toc_number\" align=right>352</td></tr><tr><td class=\"toc_border\">  </td><td class=\"toc_border\"></td></tr><tr><td class=\"toc_entry\"><div class=\"toc_entry\"><span style=\"white-space:nowrap\"><span dir=ltr>Hector and Achilles by Eunice Pinney </span></span></div></td><td class=\"toc_number\" align=right>376</td></tr><tr><td class=\"toc_border\">  </td><td class=\"toc_border\"></td></tr><tr><td class=\"toc_entry\"><div class=\"toc_entry\"><span style=\"white-space:nowrap\"><span dir=ltr>THE RETURNS AND THE ODYSSEY </span></span></div></td><td class=\"toc_number\" align=right>388</td></tr><tr><td class=\"toc_border\">  </td><td class=\"toc_border\"></td></tr><tr><td class=\"toc_entry\"><div class=\"toc_entry\"><span style=\"white-space:nowrap\"><span dir=ltr>PERSEUS AND THE LEGENDS OF ARGOS </span></span></div></td><td class=\"toc_number\" align=right>406</td></tr><tr><td class=\"toc_border\">  </td><td class=\"toc_border\"></td></tr><tr><td class=\"toc_entry\"><div class=\"toc_entry\"><span style=\"white-space:nowrap\"><span dir=ltr>HERACLES </span></span></div></td><td class=\"toc_number\" align=right>416</td></tr><tr><td class=\"toc_border\">  </td><td class=\"toc_border\"></td></tr><tr><td class=\"toc_entry\"><div class=\"toc_entry\"><span style=\"white-space:nowrap\"><span dir=ltr>THESEUS AND THE LEGENDS OF ATTICA </span></span></div></td><td class=\"toc_number\" align=right>442</td></tr><tr><td class=\"toc_border\">  </td><td class=\"toc_border\"></td></tr><tr><td class=\"toc_entry\"><div class=\"toc_entry\"><span style=\"white-space:nowrap\"><span dir=ltr>JASON MEDEA AND THE ARGONAUTS </span></span></div></td><td class=\"toc_number\" align=right>464</td></tr><tr><td class=\"toc_border\">  </td><td class=\"toc_border\"></td></tr><tr><td class=\"toc_entry\"><div class=\"toc_entry\"><span style=\"white-space:nowrap\"><span dir=ltr>MYTHS OF LOCAL HEROES AND HEROINES </span></span></div></td><td class=\"toc_number\" align=right>480</td></tr><tr><td class=\"toc_border\">  </td><td class=\"toc_border\"></td></tr><tr><td class=\"toc_entry\"><div class=\"toc_entry\"><span style=\"white-space:nowrap\"><span dir=ltr>PART THREE </span></span></div></td><td class=\"toc_number\" align=right>501</td></tr><tr><td class=\"toc_border\">  </td><td class=\"toc_border\"></td></tr><tr><td class=\"toc_entry\"><div class=\"toc_entry\"><span style=\"white-space:nowrap\"><span dir=ltr>THE SURVIVAL OF CLASSICAL MYTHOLOGY IN LITERATURE AND ART </span></span></div></td><td class=\"toc_number\" align=right>542</td></tr><tr><td class=\"toc_border\">  </td><td class=\"toc_border\"></td></tr><tr><td class=\"toc_entry\"><div class=\"toc_entry\"><span style=\"white-space:nowrap\"><span dir=ltr>CLASSICAL MYTHOLOGY IN MUSIC AND FILM </span></span></div></td><td class=\"toc_number\" align=right>577</td></tr><tr><td class=\"toc_border\">  </td><td class=\"toc_border\"></td></tr><tr><td class=\"toc_entry\"><div class=\"toc_entry\"><span style=\"white-space:nowrap\"><span dir=ltr>NOTES </span></span></div></td><td class=\"toc_number\" align=right>595</td></tr><tr><td class=\"toc_border\">  </td><td class=\"toc_border\"></td></tr><tr><td class=\"toc_entry\"><div class=\"toc_entry\"><span style=\"white-space:nowrap\"><span dir=ltr>SELECT BIBLIOGRAPHY </span></span></div></td><td class=\"toc_number\" align=right>631</td></tr><tr><td class=\"toc_border\">  </td><td class=\"toc_border\"></td></tr><tr><td class=\"toc_entry\"><div class=\"toc_entry\"><span style=\"white-space:nowrap\"><span dir=ltr>INDEXES </span></span></div></td><td class=\"toc_number\" align=right>1</td></tr><tr><td class=\"toc_border\">  </td><td class=\"toc_border\"></td></tr><tr><td class=\"toc_entry\"><div class=\"toc_entry\"><a class=\"primary\" href=\"https://books.google.co.in/books?id=ecGXcMRAPXcC&amp;newbks=0&amp;printsec=copyright\" ><span title=\"Copyright\" style=\"white-space:nowrap\"><span dir=ltr>Copyright</span></span></a></div></td><td class=\"toc_number\" align=right></td></tr><tr><td class=\"toc_border\">  </td><td class=\"toc_border\"></td></tr></table></div></div><br style=\"clear:both;\"/><span onclick=\"_OC_setListSectionVisible(\\'toc_h\\', 0)\" class=morelesslink id=toc_hc1 style=\"display:none\"><br>Less</span></div><script type=\"text/javascript\">if (window[\\'_OC_setListSectionVisible\\']) {_OC_setListSectionVisible(\\'toc_h\\', 0);}</script></div></div><div class=vertical_module_list_row><h3 class=about_title><a name=\"book_other_versions_anchor\"></a>Other editions - <a href=\\'https://books.google.co.in/books?q=editions:ISBN0195143388&id=ecGXcMRAPXcC&newbks=0\\'>View all</a></h3><div id=book_other_versions class=about_content><div id=book_other_versions_v><div class=\"one-third-column\"><div class=\"crsiwrapper\"><table class=\"rsi\" cellspacing=0 cellpadding=0 border=0><tr><td class=\"coverdstd\" align=\"center\"><a href=\"https://books.google.co.in/books?id=R1LuAAAAMAAJ&amp;source=gbs_book_other_versions_r&amp;cad=3\" ><img alt=\"\" class=\"coverthumb hover-card-attach-point\" src=\"https://books.google.co.in/books/content?id=R1LuAAAAMAAJ&amp;printsec=frontcover&amp;img=1&amp;zoom=5\" border=\"0\" height=\"80\"></a></td><td valign=top><div class=resbdy><a class=\"primary cresbdy\" href=\"https://books.google.co.in/books?id=R1LuAAAAMAAJ&amp;source=gbs_book_other_versions_r&amp;cad=3\"><span dir=ltr>Classical Mythology</span></a><br><span style=\"line-height: 1.3em; font-size:-1;\"><span><a href=\"https://www.google.co.in/search?tbo=p&amp;tbm=bks&amp;q=inauthor:%22Mark+P.+O.+Morford%22\" class=\"secondary\"><span dir=ltr>Mark P. O. Morford</span></a>,<a href=\"https://www.google.co.in/search?tbo=p&amp;tbm=bks&amp;q=inauthor:%22Robert+J.+Lenardon%22\" class=\"secondary\"><span dir=ltr>Robert J. Lenardon</span></a></span><br/><span><span style=\"color:#999\">Snippet view</span> - 1999</span><br/></span></div></td><td align=right></td></tr></table></div></div><script>(function () {var fn = window[\\'_OC_WSBookList\\'] || window[\\'_OC_BookList\\'];fn && fn(\\'book_other_versions\\', [{\"title\":\"Classical Mythology\",\"authors\":\"Mark P. O. Morford, Robert J. Lenardon\",\"bib_key\":\"UOM:39015027480030\",\"pub_date\":\"1999\",\"snippet\":\"The bestselling, comprehensive introduction to classical mythology features a dynamic combination of poetic narratives and enlightening commentary. It includes extensive ...\",\"subject\":\"Social Science\",\"info_url\":\"https://books.google.co.in/books?id=R1LuAAAAMAAJ\\\\u0026source=gbs_book_other_versions\",\"preview_url\":\"https://books.google.co.in/books?id=R1LuAAAAMAAJ\\\\u0026source=gbs_book_other_versions\",\"thumbnail_url\":\"https://books.google.co.in/books/content?id=R1LuAAAAMAAJ\\\\u0026printsec=frontcover\\\\u0026img=1\\\\u0026zoom=1\",\"num_pages\":724,\"viewability\":1,\"preview\":\"noview\",\"embeddable\":false,\"my_ebooks_url\":\"https://www.google.com/accounts/Login?service=print\\\\u0026continue=https://books.google.co.in/books%3Fas_coll%3D7\\\\u0026hl=en\",\"can_download_pdf\":false,\"can_download_epub\":false,\"is_pdf_drm_enabled\":false,\"is_epub_drm_enabled\":false}]);})();</script></div></div></div><div class=vertical_module_list_row><h3 class=about_title><a name=\"word_cloud_anchor\"></a>Common terms and phrases</h3><div id=word_cloud class=about_content><div id=word_cloud_v><style type=\"text/css\">.cloud9 {color: #7777cc;font-size: 10px;}.cloud8 {color: #6963CC;font-size: 10.5px;}.cloud7 {color: #6057CC;font-size: 11px;}.cloud6 {color: #574BCC;font-size: 11.5px;}.cloud5 {color: #4E3DCC;font-size: 12px;}.cloud4 {color: #4632CC;font-size: 14px;}.cloud3 {color: #3D26CC;font-size: 16px;}.cloud2 {color: #341ACC;font-size: 18px;}.cloud1 {color: #2B0DCC;font-size: 20px;}.cloud0 {color: #2200CC;font-size: 22px;}.cloud {margin-top: 4px;line-height: 24px;}.cloud a {margin-right: 6px;text-decoration: none;}.cloud a:hover {text-decoration: underline;}</style><div class=cloud><a href=\"https://books.google.co.in/books?id=ecGXcMRAPXcC&amp;newbks=0&amp;q=Achilles&amp;source=gbs_word_cloud_r&amp;cad=4\"  class=\"cloud8\"><span dir=ltr>Achilles</span></a> <a href=\"https://books.google.co.in/books?id=ecGXcMRAPXcC&amp;newbks=0&amp;q=Adrastus&amp;source=gbs_word_cloud_r&amp;cad=4\"  class=\"cloud4\"><span dir=ltr>Adrastus</span></a> <a href=\"https://books.google.co.in/books?id=ecGXcMRAPXcC&amp;newbks=0&amp;q=Aeneas&amp;source=gbs_word_cloud_r&amp;cad=4\"  class=\"cloud9\"><span dir=ltr>Aeneas</span></a> <a href=\"https://books.google.co.in/books?id=ecGXcMRAPXcC&amp;newbks=0&amp;q=Aeschylus&amp;source=gbs_word_cloud_r&amp;cad=4\"  class=\"cloud0\"><span dir=ltr>Aeschylus</span></a> <a href=\"https://books.google.co.in/books?id=ecGXcMRAPXcC&amp;newbks=0&amp;q=Aphrodite&amp;source=gbs_word_cloud_r&amp;cad=4\"  class=\"cloud7\"><span dir=ltr>Aphrodite</span></a> <a href=\"https://books.google.co.in/books?id=ecGXcMRAPXcC&amp;newbks=0&amp;q=Apollo&amp;source=gbs_word_cloud_r&amp;cad=4\"  class=\"cloud3\"><span dir=ltr>Apollo</span></a> <a href=\"https://books.google.co.in/books?id=ecGXcMRAPXcC&amp;newbks=0&amp;q=appears&amp;source=gbs_word_cloud_r&amp;cad=4\"  class=\"cloud6\"><span dir=ltr>appears</span></a> <a href=\"https://books.google.co.in/books?id=ecGXcMRAPXcC&amp;newbks=0&amp;q=arms&amp;source=gbs_word_cloud_r&amp;cad=4\"  class=\"cloud9\"><span dir=ltr>arms</span></a> <a href=\"https://books.google.co.in/books?id=ecGXcMRAPXcC&amp;newbks=0&amp;q=Artemis&amp;source=gbs_word_cloud_r&amp;cad=4\"  class=\"cloud8\"><span dir=ltr>Artemis</span></a> <a href=\"https://books.google.co.in/books?id=ecGXcMRAPXcC&amp;newbks=0&amp;q=asked&amp;source=gbs_word_cloud_r&amp;cad=4\"  class=\"cloud9\"><span dir=ltr>asked</span></a> <a href=\"https://books.google.co.in/books?id=ecGXcMRAPXcC&amp;newbks=0&amp;q=Athena&amp;source=gbs_word_cloud_r&amp;cad=4\"  class=\"cloud4\"><span dir=ltr>Athena</span></a> <a href=\"https://books.google.co.in/books?id=ecGXcMRAPXcC&amp;newbks=0&amp;q=beautiful&amp;source=gbs_word_cloud_r&amp;cad=4\"  class=\"cloud4\"><span dir=ltr>beautiful</span></a> <a href=\"https://books.google.co.in/books?id=ecGXcMRAPXcC&amp;newbks=0&amp;q=became&amp;source=gbs_word_cloud_r&amp;cad=4\"  class=\"cloud8\"><span dir=ltr>became</span></a> <a href=\"https://books.google.co.in/books?id=ecGXcMRAPXcC&amp;newbks=0&amp;q=become&amp;source=gbs_word_cloud_r&amp;cad=4\"  class=\"cloud8\"><span dir=ltr>become</span></a> <a href=\"https://books.google.co.in/books?id=ecGXcMRAPXcC&amp;newbks=0&amp;q=birth&amp;source=gbs_word_cloud_r&amp;cad=4\"  class=\"cloud8\"><span dir=ltr>birth</span></a> <a href=\"https://books.google.co.in/books?id=ecGXcMRAPXcC&amp;newbks=0&amp;q=blood&amp;source=gbs_word_cloud_r&amp;cad=4\"  class=\"cloud9\"><span dir=ltr>blood</span></a> <a href=\"https://books.google.co.in/books?id=ecGXcMRAPXcC&amp;newbks=0&amp;q=body&amp;source=gbs_word_cloud_r&amp;cad=4\"  class=\"cloud8\"><span dir=ltr>body</span></a> <a href=\"https://books.google.co.in/books?id=ecGXcMRAPXcC&amp;newbks=0&amp;q=born&amp;source=gbs_word_cloud_r&amp;cad=4\"  class=\"cloud9\"><span dir=ltr>born</span></a> <a href=\"https://books.google.co.in/books?id=ecGXcMRAPXcC&amp;newbks=0&amp;q=bring&amp;source=gbs_word_cloud_r&amp;cad=4\"  class=\"cloud8\"><span dir=ltr>bring</span></a> <a href=\"https://books.google.co.in/books?id=ecGXcMRAPXcC&amp;newbks=0&amp;q=brought&amp;source=gbs_word_cloud_r&amp;cad=4\"  class=\"cloud8\"><span dir=ltr>brought</span></a> <a href=\"https://books.google.co.in/books?id=ecGXcMRAPXcC&amp;newbks=0&amp;q=called&amp;source=gbs_word_cloud_r&amp;cad=4\"  class=\"cloud4\"><span dir=ltr>called</span></a> <a href=\"https://books.google.co.in/books?id=ecGXcMRAPXcC&amp;newbks=0&amp;q=century&amp;source=gbs_word_cloud_r&amp;cad=4\"  class=\"cloud8\"><span dir=ltr>century</span></a> <a href=\"https://books.google.co.in/books?id=ecGXcMRAPXcC&amp;newbks=0&amp;q=Chapter&amp;source=gbs_word_cloud_r&amp;cad=4\"  class=\"cloud8\"><span dir=ltr>Chapter</span></a> <a href=\"https://books.google.co.in/books?id=ecGXcMRAPXcC&amp;newbks=0&amp;q=child&amp;source=gbs_word_cloud_r&amp;cad=4\"  class=\"cloud9\"><span dir=ltr>child</span></a> <a href=\"https://books.google.co.in/books?id=ecGXcMRAPXcC&amp;newbks=0&amp;q=classical&amp;source=gbs_word_cloud_r&amp;cad=4\"  class=\"cloud6\"><span dir=ltr>classical</span></a> <a href=\"https://books.google.co.in/books?id=ecGXcMRAPXcC&amp;newbks=0&amp;q=daughter&amp;source=gbs_word_cloud_r&amp;cad=4\"  class=\"cloud5\"><span dir=ltr>daughter</span></a> <a href=\"https://books.google.co.in/books?id=ecGXcMRAPXcC&amp;newbks=0&amp;q=death&amp;source=gbs_word_cloud_r&amp;cad=4\"  class=\"cloud4\"><span dir=ltr>death</span></a> <a href=\"https://books.google.co.in/books?id=ecGXcMRAPXcC&amp;newbks=0&amp;q=deity&amp;source=gbs_word_cloud_r&amp;cad=4\"  class=\"cloud9\"><span dir=ltr>deity</span></a> <a href=\"https://books.google.co.in/books?id=ecGXcMRAPXcC&amp;newbks=0&amp;q=Demeter&amp;source=gbs_word_cloud_r&amp;cad=4\"  class=\"cloud8\"><span dir=ltr>Demeter</span></a> <a href=\"https://books.google.co.in/books?id=ecGXcMRAPXcC&amp;newbks=0&amp;q=desire&amp;source=gbs_word_cloud_r&amp;cad=4\"  class=\"cloud9\"><span dir=ltr>desire</span></a> <a href=\"https://books.google.co.in/books?id=ecGXcMRAPXcC&amp;newbks=0&amp;q=Dionysus&amp;source=gbs_word_cloud_r&amp;cad=4\"  class=\"cloud4\"><span dir=ltr>Dionysus</span></a> <a href=\"https://books.google.co.in/books?id=ecGXcMRAPXcC&amp;newbks=0&amp;q=divine&amp;source=gbs_word_cloud_r&amp;cad=4\"  class=\"cloud6\"><span dir=ltr>divine</span></a> <a href=\"https://books.google.co.in/books?id=ecGXcMRAPXcC&amp;newbks=0&amp;q=earth&amp;source=gbs_word_cloud_r&amp;cad=4\"  class=\"cloud4\"><span dir=ltr>earth</span></a> <a href=\"https://books.google.co.in/books?id=ecGXcMRAPXcC&amp;newbks=0&amp;q=evil&amp;source=gbs_word_cloud_r&amp;cad=4\"  class=\"cloud7\"><span dir=ltr>evil</span></a> <a href=\"https://books.google.co.in/books?id=ecGXcMRAPXcC&amp;newbks=0&amp;q=eyes&amp;source=gbs_word_cloud_r&amp;cad=4\"  class=\"cloud9\"><span dir=ltr>eyes</span></a> <a href=\"https://books.google.co.in/books?id=ecGXcMRAPXcC&amp;newbks=0&amp;q=fate&amp;source=gbs_word_cloud_r&amp;cad=4\"  class=\"cloud9\"><span dir=ltr>fate</span></a> <a href=\"https://books.google.co.in/books?id=ecGXcMRAPXcC&amp;newbks=0&amp;q=father&amp;source=gbs_word_cloud_r&amp;cad=4\"  class=\"cloud3\"><span dir=ltr>father</span></a> <a href=\"https://books.google.co.in/books?id=ecGXcMRAPXcC&amp;newbks=0&amp;q=figure&amp;source=gbs_word_cloud_r&amp;cad=4\"  class=\"cloud8\"><span dir=ltr>figure</span></a> <a href=\"https://books.google.co.in/books?id=ecGXcMRAPXcC&amp;newbks=0&amp;q=fire&amp;source=gbs_word_cloud_r&amp;cad=4\"  class=\"cloud9\"><span dir=ltr>fire</span></a> <a href=\"https://books.google.co.in/books?id=ecGXcMRAPXcC&amp;newbks=0&amp;q=follows&amp;source=gbs_word_cloud_r&amp;cad=4\"  class=\"cloud7\"><span dir=ltr>follows</span></a> <a href=\"https://books.google.co.in/books?id=ecGXcMRAPXcC&amp;newbks=0&amp;q=gave&amp;source=gbs_word_cloud_r&amp;cad=4\"  class=\"cloud7\"><span dir=ltr>gave</span></a> <a href=\"https://books.google.co.in/books?id=ecGXcMRAPXcC&amp;newbks=0&amp;q=gifts&amp;source=gbs_word_cloud_r&amp;cad=4\"  class=\"cloud9\"><span dir=ltr>gifts</span></a> <a href=\"https://books.google.co.in/books?id=ecGXcMRAPXcC&amp;newbks=0&amp;q=give&amp;source=gbs_word_cloud_r&amp;cad=4\"  class=\"cloud7\"><span dir=ltr>give</span></a> <a href=\"https://books.google.co.in/books?id=ecGXcMRAPXcC&amp;newbks=0&amp;q=goddess&amp;source=gbs_word_cloud_r&amp;cad=4\"  class=\"cloud4\"><span dir=ltr>goddess</span></a> <a href=\"https://books.google.co.in/books?id=ecGXcMRAPXcC&amp;newbks=0&amp;q=gods&amp;source=gbs_word_cloud_r&amp;cad=4\"  class=\"cloud0\"><span dir=ltr>gods</span></a> <a href=\"https://books.google.co.in/books?id=ecGXcMRAPXcC&amp;newbks=0&amp;q=golden&amp;source=gbs_word_cloud_r&amp;cad=4\"  class=\"cloud9\"><span dir=ltr>golden</span></a> <a href=\"https://books.google.co.in/books?id=ecGXcMRAPXcC&amp;newbks=0&amp;q=Greek&amp;source=gbs_word_cloud_r&amp;cad=4\"  class=\"cloud1\"><span dir=ltr>Greek</span></a> <a href=\"https://books.google.co.in/books?id=ecGXcMRAPXcC&amp;newbks=0&amp;q=hair&amp;source=gbs_word_cloud_r&amp;cad=4\"  class=\"cloud9\"><span dir=ltr>hair</span></a> <a href=\"https://books.google.co.in/books?id=ecGXcMRAPXcC&amp;newbks=0&amp;q=hands&amp;source=gbs_word_cloud_r&amp;cad=4\"  class=\"cloud4\"><span dir=ltr>hands</span></a> <a href=\"https://books.google.co.in/books?id=ecGXcMRAPXcC&amp;newbks=0&amp;q=head&amp;source=gbs_word_cloud_r&amp;cad=4\"  class=\"cloud6\"><span dir=ltr>head</span></a> <a href=\"https://books.google.co.in/books?id=ecGXcMRAPXcC&amp;newbks=0&amp;q=heart&amp;source=gbs_word_cloud_r&amp;cad=4\"  class=\"cloud7\"><span dir=ltr>heart</span></a> <a href=\"https://books.google.co.in/books?id=ecGXcMRAPXcC&amp;newbks=0&amp;q=Hera&amp;source=gbs_word_cloud_r&amp;cad=4\"  class=\"cloud9\"><span dir=ltr>Hera</span></a> <a href=\"https://books.google.co.in/books?id=ecGXcMRAPXcC&amp;newbks=0&amp;q=Heracles&amp;source=gbs_word_cloud_r&amp;cad=4\"  class=\"cloud7\"><span dir=ltr>Heracles</span></a> <a href=\"https://books.google.co.in/books?id=ecGXcMRAPXcC&amp;newbks=0&amp;q=Hermes&amp;source=gbs_word_cloud_r&amp;cad=4\"  class=\"cloud7\"><span dir=ltr>Hermes</span></a> <a href=\"https://books.google.co.in/books?id=ecGXcMRAPXcC&amp;newbks=0&amp;q=hero&amp;source=gbs_word_cloud_r&amp;cad=4\"  class=\"cloud7\"><span dir=ltr>hero</span></a> <a href=\"https://books.google.co.in/books?id=ecGXcMRAPXcC&amp;newbks=0&amp;q=Hippolytus&amp;source=gbs_word_cloud_r&amp;cad=4\"  class=\"cloud8\"><span dir=ltr>Hippolytus</span></a> <a href=\"https://books.google.co.in/books?id=ecGXcMRAPXcC&amp;newbks=0&amp;q=hold&amp;source=gbs_word_cloud_r&amp;cad=4\"  class=\"cloud9\"><span dir=ltr>hold</span></a> <a href=\"https://books.google.co.in/books?id=ecGXcMRAPXcC&amp;newbks=0&amp;q=Homeric&amp;source=gbs_word_cloud_r&amp;cad=4\"  class=\"cloud7\"><span dir=ltr>Homeric</span></a> <a href=\"https://books.google.co.in/books?id=ecGXcMRAPXcC&amp;newbks=0&amp;q=honor&amp;source=gbs_word_cloud_r&amp;cad=4\"  class=\"cloud7\"><span dir=ltr>honor</span></a> <a href=\"https://books.google.co.in/books?id=ecGXcMRAPXcC&amp;newbks=0&amp;q=human&amp;source=gbs_word_cloud_r&amp;cad=4\"  class=\"cloud4\"><span dir=ltr>human</span></a> <a href=\"https://books.google.co.in/books?id=ecGXcMRAPXcC&amp;newbks=0&amp;q=Hymn&amp;source=gbs_word_cloud_r&amp;cad=4\"  class=\"cloud8\"><span dir=ltr>Hymn</span></a> <a href=\"https://books.google.co.in/books?id=ecGXcMRAPXcC&amp;newbks=0&amp;q=immortal&amp;source=gbs_word_cloud_r&amp;cad=4\"  class=\"cloud3\"><span dir=ltr>immortal</span></a> <a href=\"https://books.google.co.in/books?id=ecGXcMRAPXcC&amp;newbks=0&amp;q=Italy&amp;source=gbs_word_cloud_r&amp;cad=4\"  class=\"cloud1\"><span dir=ltr>Italy</span></a> <a href=\"https://books.google.co.in/books?id=ecGXcMRAPXcC&amp;newbks=0&amp;q=killed&amp;source=gbs_word_cloud_r&amp;cad=4\"  class=\"cloud5\"><span dir=ltr>killed</span></a> <a href=\"https://books.google.co.in/books?id=ecGXcMRAPXcC&amp;newbks=0&amp;q=king&amp;source=gbs_word_cloud_r&amp;cad=4\"  class=\"cloud6\"><span dir=ltr>king</span></a> <a href=\"https://books.google.co.in/books?id=ecGXcMRAPXcC&amp;newbks=0&amp;q=land&amp;source=gbs_word_cloud_r&amp;cad=4\"  class=\"cloud8\"><span dir=ltr>land</span></a> <a href=\"https://books.google.co.in/books?id=ecGXcMRAPXcC&amp;newbks=0&amp;q=later&amp;source=gbs_word_cloud_r&amp;cad=4\"  class=\"cloud9\"><span dir=ltr>later</span></a> <a href=\"https://books.google.co.in/books?id=ecGXcMRAPXcC&amp;newbks=0&amp;q=legend&amp;source=gbs_word_cloud_r&amp;cad=4\"  class=\"cloud7\"><span dir=ltr>legend</span></a> <a href=\"https://books.google.co.in/books?id=ecGXcMRAPXcC&amp;newbks=0&amp;q=live&amp;source=gbs_word_cloud_r&amp;cad=4\"  class=\"cloud6\"><span dir=ltr>live</span></a> <a href=\"https://books.google.co.in/books?id=ecGXcMRAPXcC&amp;newbks=0&amp;q=look&amp;source=gbs_word_cloud_r&amp;cad=4\"  class=\"cloud7\"><span dir=ltr>look</span></a> <a href=\"https://books.google.co.in/books?id=ecGXcMRAPXcC&amp;newbks=0&amp;q=means&amp;source=gbs_word_cloud_r&amp;cad=4\"  class=\"cloud8\"><span dir=ltr>means</span></a> <a href=\"https://books.google.co.in/books?id=ecGXcMRAPXcC&amp;newbks=0&amp;q=mortals&amp;source=gbs_word_cloud_r&amp;cad=4\"  class=\"cloud4\"><span dir=ltr>mortals</span></a> <a href=\"https://books.google.co.in/books?id=ecGXcMRAPXcC&amp;newbks=0&amp;q=mother&amp;source=gbs_word_cloud_r&amp;cad=4\"  class=\"cloud4\"><span dir=ltr>mother</span></a> <a href=\"https://books.google.co.in/books?id=ecGXcMRAPXcC&amp;newbks=0&amp;q=mountain&amp;source=gbs_word_cloud_r&amp;cad=4\"  class=\"cloud9\"><span dir=ltr>mountain</span></a> <a href=\"https://books.google.co.in/books?id=ecGXcMRAPXcC&amp;newbks=0&amp;q=mysteries&amp;source=gbs_word_cloud_r&amp;cad=4\"  class=\"cloud7\"><span dir=ltr>mysteries</span></a> <a href=\"https://books.google.co.in/books?id=ecGXcMRAPXcC&amp;newbks=0&amp;q=myth&amp;source=gbs_word_cloud_r&amp;cad=4\"  class=\"cloud2\"><span dir=ltr>myth</span></a> <a href=\"https://books.google.co.in/books?id=ecGXcMRAPXcC&amp;newbks=0&amp;q=mythology&amp;source=gbs_word_cloud_r&amp;cad=4\"  class=\"cloud6\"><span dir=ltr>mythology</span></a> <a href=\"https://books.google.co.in/books?id=ecGXcMRAPXcC&amp;newbks=0&amp;q=nature&amp;source=gbs_word_cloud_r&amp;cad=4\"  class=\"cloud7\"><span dir=ltr>nature</span></a> <a href=\"https://books.google.co.in/books?id=ecGXcMRAPXcC&amp;newbks=0&amp;q=night&amp;source=gbs_word_cloud_r&amp;cad=4\"  class=\"cloud8\"><span dir=ltr>night</span></a> <a href=\"https://books.google.co.in/books?id=ecGXcMRAPXcC&amp;newbks=0&amp;q=Odysseus&amp;source=gbs_word_cloud_r&amp;cad=4\"  class=\"cloud7\"><span dir=ltr>Odysseus</span></a> <a href=\"https://books.google.co.in/books?id=ecGXcMRAPXcC&amp;newbks=0&amp;q=Oedipus&amp;source=gbs_word_cloud_r&amp;cad=4\"  class=\"cloud9\"><span dir=ltr>Oedipus</span></a> <a href=\"https://books.google.co.in/books?id=ecGXcMRAPXcC&amp;newbks=0&amp;q=once&amp;source=gbs_word_cloud_r&amp;cad=4\"  class=\"cloud8\"><span dir=ltr>once</span></a> <a href=\"https://books.google.co.in/books?id=ecGXcMRAPXcC&amp;newbks=0&amp;q=originally&amp;source=gbs_word_cloud_r&amp;cad=4\"  class=\"cloud8\"><span dir=ltr>originally</span></a> <a href=\"https://books.google.co.in/books?id=ecGXcMRAPXcC&amp;newbks=0&amp;q=Orpheus&amp;source=gbs_word_cloud_r&amp;cad=4\"  class=\"cloud8\"><span dir=ltr>Orpheus</span></a> <a href=\"https://books.google.co.in/books?id=ecGXcMRAPXcC&amp;newbks=0&amp;q=PENTHEUS&amp;source=gbs_word_cloud_r&amp;cad=4\"  class=\"cloud9\"><span dir=ltr>PENTHEUS</span></a> <a href=\"https://books.google.co.in/books?id=ecGXcMRAPXcC&amp;newbks=0&amp;q=play&amp;source=gbs_word_cloud_r&amp;cad=4\"  class=\"cloud7\"><span dir=ltr>play</span></a> <a href=\"https://books.google.co.in/books?id=ecGXcMRAPXcC&amp;newbks=0&amp;q=Press&amp;source=gbs_word_cloud_r&amp;cad=4\"  class=\"cloud9\"><span dir=ltr>Press</span></a> <a href=\"https://books.google.co.in/books?id=ecGXcMRAPXcC&amp;newbks=0&amp;q=provides&amp;source=gbs_word_cloud_r&amp;cad=4\"  class=\"cloud9\"><span dir=ltr>provides</span></a> <a href=\"https://books.google.co.in/books?id=ecGXcMRAPXcC&amp;newbks=0&amp;q=religion&amp;source=gbs_word_cloud_r&amp;cad=4\"  class=\"cloud7\"><span dir=ltr>religion</span></a> <a href=\"https://books.google.co.in/books?id=ecGXcMRAPXcC&amp;newbks=0&amp;q=river&amp;source=gbs_word_cloud_r&amp;cad=4\"  class=\"cloud9\"><span dir=ltr>river</span></a> <a href=\"https://books.google.co.in/books?id=ecGXcMRAPXcC&amp;newbks=0&amp;q=Roman&amp;source=gbs_word_cloud_r&amp;cad=4\"  class=\"cloud6\"><span dir=ltr>Roman</span></a> <a href=\"https://books.google.co.in/books?id=ecGXcMRAPXcC&amp;newbks=0&amp;q=ship&amp;source=gbs_word_cloud_r&amp;cad=4\"  class=\"cloud9\"><span dir=ltr>ship</span></a> <a href=\"https://books.google.co.in/books?id=ecGXcMRAPXcC&amp;newbks=0&amp;q=side&amp;source=gbs_word_cloud_r&amp;cad=4\"  class=\"cloud9\"><span dir=ltr>side</span></a> <a href=\"https://books.google.co.in/books?id=ecGXcMRAPXcC&amp;newbks=0&amp;q=sister&amp;source=gbs_word_cloud_r&amp;cad=4\"  class=\"cloud9\"><span dir=ltr>sister</span></a> <a href=\"https://books.google.co.in/books?id=ecGXcMRAPXcC&amp;newbks=0&amp;q=soul&amp;source=gbs_word_cloud_r&amp;cad=4\"  class=\"cloud8\"><span dir=ltr>soul</span></a> <a href=\"https://books.google.co.in/books?id=ecGXcMRAPXcC&amp;newbks=0&amp;q=spoke&amp;source=gbs_word_cloud_r&amp;cad=4\"  class=\"cloud7\"><span dir=ltr>spoke</span></a> <a href=\"https://books.google.co.in/books?id=ecGXcMRAPXcC&amp;newbks=0&amp;q=story&amp;source=gbs_word_cloud_r&amp;cad=4\"  class=\"cloud5\"><span dir=ltr>story</span></a> <a href=\"https://books.google.co.in/books?id=ecGXcMRAPXcC&amp;newbks=0&amp;q=tell&amp;source=gbs_word_cloud_r&amp;cad=4\"  class=\"cloud6\"><span dir=ltr>tell</span></a> <a href=\"https://books.google.co.in/books?id=ecGXcMRAPXcC&amp;newbks=0&amp;q=temple&amp;source=gbs_word_cloud_r&amp;cad=4\"  class=\"cloud7\"><span dir=ltr>temple</span></a> <a href=\"https://books.google.co.in/books?id=ecGXcMRAPXcC&amp;newbks=0&amp;q=Theseus&amp;source=gbs_word_cloud_r&amp;cad=4\"  class=\"cloud8\"><span dir=ltr>Theseus</span></a> <a href=\"https://books.google.co.in/books?id=ecGXcMRAPXcC&amp;newbks=0&amp;q=things&amp;source=gbs_word_cloud_r&amp;cad=4\"  class=\"cloud7\"><span dir=ltr>things</span></a> <a href=\"https://books.google.co.in/books?id=ecGXcMRAPXcC&amp;newbks=0&amp;q=Tiresias&amp;source=gbs_word_cloud_r&amp;cad=4\"  class=\"cloud1\"><span dir=ltr>Tiresias</span></a> <a href=\"https://books.google.co.in/books?id=ecGXcMRAPXcC&amp;newbks=0&amp;q=took&amp;source=gbs_word_cloud_r&amp;cad=4\"  class=\"cloud7\"><span dir=ltr>took</span></a> <a href=\"https://books.google.co.in/books?id=ecGXcMRAPXcC&amp;newbks=0&amp;q=tradition&amp;source=gbs_word_cloud_r&amp;cad=4\"  class=\"cloud9\"><span dir=ltr>tradition</span></a> <a href=\"https://books.google.co.in/books?id=ecGXcMRAPXcC&amp;newbks=0&amp;q=Trojan&amp;source=gbs_word_cloud_r&amp;cad=4\"  class=\"cloud9\"><span dir=ltr>Trojan</span></a> <a href=\"https://books.google.co.in/books?id=ecGXcMRAPXcC&amp;newbks=0&amp;q=Troy&amp;source=gbs_word_cloud_r&amp;cad=4\"  class=\"cloud8\"><span dir=ltr>Troy</span></a> <a href=\"https://books.google.co.in/books?id=ecGXcMRAPXcC&amp;newbks=0&amp;q=turned&amp;source=gbs_word_cloud_r&amp;cad=4\"  class=\"cloud7\"><span dir=ltr>turned</span></a> <a href=\"https://books.google.co.in/books?id=ecGXcMRAPXcC&amp;newbks=0&amp;q=University&amp;source=gbs_word_cloud_r&amp;cad=4\"  class=\"cloud7\"><span dir=ltr>University</span></a> <a href=\"https://books.google.co.in/books?id=ecGXcMRAPXcC&amp;newbks=0&amp;q=wife&amp;source=gbs_word_cloud_r&amp;cad=4\"  class=\"cloud8\"><span dir=ltr>wife</span></a> <a href=\"https://books.google.co.in/books?id=ecGXcMRAPXcC&amp;newbks=0&amp;q=women&amp;source=gbs_word_cloud_r&amp;cad=4\"  class=\"cloud6\"><span dir=ltr>women</span></a> <a href=\"https://books.google.co.in/books?id=ecGXcMRAPXcC&amp;newbks=0&amp;q=worship&amp;source=gbs_word_cloud_r&amp;cad=4\"  class=\"cloud8\"><span dir=ltr>worship</span></a> <a href=\"https://books.google.co.in/books?id=ecGXcMRAPXcC&amp;newbks=0&amp;q=York&amp;source=gbs_word_cloud_r&amp;cad=4\"  class=\"cloud9\"><span dir=ltr>York</span></a> <a href=\"https://books.google.co.in/books?id=ecGXcMRAPXcC&amp;newbks=0&amp;q=Zeus&amp;source=gbs_word_cloud_r&amp;cad=4\"  class=\"cloud0\"><span dir=ltr>Zeus</span></a></div></div></div></div><div class=vertical_module_list_row><h3 class=about_title><a name=\"quotes_anchor\"></a>Popular passages</h3><div id=quotes class=about_content><div id=quotes_v><div class=\"quot\"><span class=\"nobr\">Page 536</span> - <span dir=ltr>Her lips suck forth my soul: see, where it flies! Come, Helen, come, give me my soul again. Here will I dwell, for heaven is in these lips, And all is dross that is not Helena.</span><div class=\"qt_aprs\"><a class=\"secondary\" href=https://books.google.co.in/books?id=ecGXcMRAPXcC&newbks=0&qtid=1c7e7b00&source=gbs_quotes_r&cad=5>Appears in 678 books from 1788-2008</a></div></div><div class=\"quot\"><span class=\"nobr\">Page 244</span> - <span dir=ltr>Truly, truly, I say to you, unless a grain of wheat falls into the earth and dies, it remains alone; but if it dies, it bears much fruit.</span><div class=\"qt_aprs\"><a class=\"secondary\" href=https://books.google.co.in/books?id=ecGXcMRAPXcC&newbks=0&qtid=fc7e790d&source=gbs_quotes_r&cad=5>Appears in 636 books from 1860-2008</a></div></div></div><span onclick=\"_OC_setListSectionVisible(\\'quotes_h\\', 1)\" class=morelesslink id=quotes_hc0 style=\"display:none\">More</span><div id=quotes_hd1><div class=\"quot\"><span class=\"nobr\"><a class=\"primary\" href=\"https://books.google.co.in/books?id=ecGXcMRAPXcC&amp;pg=PA7&amp;vq=%22toward+our+fathers%3B+our+dreams+convince+us+that+we+were.+King+Oedipus,+who+slew+his+father+Laius+and+wedded+his%22&amp;source=gbs_quotes_r&amp;cad=5\" >Page 7</a></span> - <span dir=ltr>His fate moves us only because it might have been our own, because the oracle laid upon us before our birth the very curse which rested upon him. It may be that we were all destined to direct our first sexual impulses toward our mothers, and our first impulses of hatred and violence toward our fathers; our dreams convince us that we were. King Oedipus, who slew his father Laius and wedded his mother Jocasta, is nothing more or less than a wish-fulfillment &#8212; the fulfillment of the wish of our childhood.</span><div class=\"qt_aprs\"><a class=\"secondary\" href=https://books.google.co.in/books?id=ecGXcMRAPXcC&newbks=0&qtid=197e78d1&source=gbs_quotes_r&cad=5>Appears in 49 books from 1845-2007</a></div></div><div class=\"quot\"><span class=\"nobr\"><a class=\"primary\" href=\"https://books.google.co.in/books?id=ecGXcMRAPXcC&amp;pg=PA7&amp;vq=%22As+the+poet+brings+the+guilt+of+Oedipus+to+light+by+his+investigation,+he+forces+us+to+become+aware+of%22&amp;source=gbs_quotes_r&amp;cad=5\" >Page 7</a></span> - <span dir=ltr>... succeeded in withdrawing our sexual impulses from our mothers, and in forgetting our jealousy of our fathers. We recoil from the person for whom this primitive wish of our childhood has been fulfilled with all the force of the repression which these wishes have undergone in our minds since childhood. As the poet brings the guilt of Oedipus to light by his investigation, he forces us to become aware of our own inner selves, in which the same impulses are still extant, even though they are suppressed.</span><div class=\"qt_aprs\"><a class=\"secondary\" href=https://books.google.co.in/books?id=ecGXcMRAPXcC&newbks=0&qtid=d77e78d1&source=gbs_quotes_r&cad=5>Appears in 35 books from 1845-2002</a></div></div><div class=\"quot\"><span class=\"nobr\">Page 248</span> - <span dir=ltr>Happy is he who, having seen these rites, goes below the hollow earth; for he knows the end of life and he knows its god-sent beginning.</span><div class=\"qt_aprs\"><a class=\"secondary\" href=https://books.google.co.in/books?id=ecGXcMRAPXcC&newbks=0&qtid=d27e7917&source=gbs_quotes_r&cad=5>Appears in 22 books from 1961-2007</a></div></div><div class=\"quot\"><span class=\"nobr\">Page 123</span> - <span dir=ltr>In the baptism the devotee, crowned with gold and wreathed with fillets, descended into a pit, the mouth of which was covered with a wooden grating. A bull, adorned with garlands of flowers, its forehead glittering with gold leaf, was then driven on to the grating and there stabbed to death with a consecrated spear. Its hot reeking blood poured in torrents through the apertures, and was received with devout eagerness by the worshipper on every part of his person and garments, till he emerged from...</span><div class=\"qt_aprs\"><a class=\"secondary\" href=https://books.google.co.in/books?id=ecGXcMRAPXcC&newbks=0&qtid=e77e781f&source=gbs_quotes_r&cad=5>Appears in 16 books from 1914-2007</a></div></div><div class=\"quot\"><span class=\"nobr\">Page 123</span> - <span dir=ltr>The fast which accompanied the mourning for the dead god may perhaps have been designed to prepare the body of the communicant for the reception of the blessed sacrament by purging it of all that could defile by contact the sacred elements.</span><div class=\"qt_aprs\"><a class=\"secondary\" href=https://books.google.co.in/books?id=ecGXcMRAPXcC&newbks=0&qtid=7d7e781f&source=gbs_quotes_r&cad=5>Appears in 11 books from 1914-2003</a></div></div><div class=\"quot\"><span class=\"nobr\">Page 248</span> - <span dir=ltr>Whatever the substance and meaning of the Mysteries was, the fact remains that the cult of Eleusis satisfied the most sincere yearnings and the deepest longings of the human heart.</span><div class=\"qt_aprs\"><a class=\"secondary\" href=https://books.google.co.in/books?id=ecGXcMRAPXcC&newbks=0&qtid=7e7e7917&source=gbs_quotes_r&cad=5>Appears in 9 books from 1930-2007</a></div></div><div class=\"quot\"><span class=\"nobr\">Page 535</span> - <span dir=ltr>... places, being woven to the life by Arachne, she incloseth the web with a traile of Ivy; well suting with the wanton argument and her owne ambition. Worne in garlands at lascivious meetings; and climing as ambitious men, to compasse their owne ends with the ruinc of their supporters. Minerva teares in peeces what envy could not but commend, because it published the vices of great ones...</span><div class=\"qt_aprs\"><a class=\"secondary\" href=https://books.google.co.in/books?id=ecGXcMRAPXcC&newbks=0&qtid=797e7b07&source=gbs_quotes_r&cad=5>Appears in 8 books from 1970-2005</a></div></div><div class=\"quot\"><span class=\"nobr\">Page 285</span> - <span dir=ltr>This was a monster, said to have the face of a woman, the body of a lion, and the wings of a griffon ; and to tear to pieces all those who could not answer this question.</span><div class=\"qt_aprs\"><a class=\"secondary\" href=https://books.google.co.in/books?id=ecGXcMRAPXcC&newbks=0&qtid=5e7e7aeb&source=gbs_quotes_r&cad=5>Appears in 69 books from 1803-2007</a></div></div><span onclick=\"_OC_setListSectionVisible(\\'quotes_h\\', 0)\" class=morelesslink id=quotes_hc1 style=\"display:none\">Less</span></div><script type=\"text/javascript\">if (window[\\'_OC_setListSectionVisible\\']) {_OC_setListSectionVisible(\\'quotes_h\\', 0);}</script></div></div><div class=vertical_module_list_row><h3 class=about_title><a name=\"citations_module_anchor\"></a>References to this book</h3><div id=citations_module class=about_content><div id=citations_module_v><div class=\"left-column-outer\"><div class=\"left-column-inner\"><div class=\"crsiwrapper\"><table class=\"rsi\" cellspacing=0 cellpadding=0 border=0><tr><td class=\"coverdstd\" align=\"center\"><a href=\"https://books.google.co.in/books?id=zhX8O6g7McQC&amp;source=gbs_citations_module_r&amp;cad=6\" ><img alt=\"\" class=\"coverthumb hover-card-attach-point\" src=\"https://books.google.co.in/books/content?id=zhX8O6g7McQC&amp;printsec=frontcover&amp;img=1&amp;zoom=5&amp;edge=curl\" border=\"0\" height=\"80\"></a></td><td valign=top><div class=resbdy><a class=\"primary cresbdy\" href=\"https://books.google.co.in/books?id=zhX8O6g7McQC&amp;printsec=frontcover&amp;vq=%22Classical+Mythology%22&amp;source=gbs_citations_module_r&amp;cad=6\"><span dir=ltr>The Singer of Tales in Performance</span></a><br><span style=\"line-height: 1.3em; font-size:-1;\"><span><a href=\"https://www.google.co.in/search?tbo=p&amp;tbm=bks&amp;q=inauthor:%22John+Miles+Foley%22\" class=\"secondary\"><span dir=ltr>John Miles Foley</span></a></span><br/><span><span style=\"color:#99522e\">Limited preview</span> - 1995</span><br/></span></div></td><td align=right></td></tr></table></div><div class=\"crsiwrapper\"><table class=\"rsi\" cellspacing=0 cellpadding=0 border=0><tr><td class=\"coverdstd\" align=\"center\"><a href=\"https://books.google.co.in/books?id=3b-ufUPQ6qsC&amp;source=gbs_citations_module_r&amp;cad=6\" ><img alt=\"\" class=\"coverthumb hover-card-attach-point\" src=\"https://books.google.co.in/books/content?id=3b-ufUPQ6qsC&amp;printsec=frontcover&amp;img=1&amp;zoom=5&amp;edge=curl\" border=\"0\" height=\"80\"></a></td><td valign=top><div class=resbdy><a class=\"primary cresbdy\" href=\"https://books.google.co.in/books?id=3b-ufUPQ6qsC&amp;printsec=frontcover&amp;vq=%22Classical+Mythology%22&amp;source=gbs_citations_module_r&amp;cad=6\"><span dir=ltr>No End to Her: Soap Opera and the Female Subject</span></a><br><span style=\"line-height: 1.3em; font-size:-1;\"><span><a href=\"https://www.google.co.in/search?tbo=p&amp;tbm=bks&amp;q=inauthor:%22Martha+Nochimson%22\" class=\"secondary\"><span dir=ltr>Martha Nochimson</span></a></span><br/><span><span style=\"color:#99522e\">Limited preview</span> - 1992</span><br/></span></div></td><td align=right></td></tr></table></div><a class=\"secondary\" href=\"https://books.google.co.in/books?q=cites:ISBN0195143388&amp;id=ecGXcMRAPXcC&amp;newbks=0&amp;source=gbs_citations_module_r&amp;cad=6\"><span dir=ltr>All Book Search results &amp;raquo;</span></a></div></div><div style=\"clear:both\"></div> </div></div></div><div class=vertical_module_list_row><h3 class=\"about_title\">Bibliographic information</h3><div class=\"about_content\" id=\"metadata_content\" style=\"padding-bottom:.3em\"><div class=\"metadata_sectionwrap\"><div class=\"qrcode_content\"><a href=\"https://chart.googleapis.com/chart?chs=400x400&amp;cht=qr&amp;chl=https://books.google.co.in/books?id=ecGXcMRAPXcC&amp;newbks=0&amp;source=qrcode\"><img src=\"https://chart.googleapis.com/chart?chs=150x150&amp;cht=qr&amp;chl=https://books.google.co.in/books?id=ecGXcMRAPXcC&amp;newbks=0&amp;source=qrcode\" alt=\"QR code for Classical Mythology\"title=\"Classical Mythology\"width=\"150\" height=\"150\"></a></div><table id=\"metadata_content_table\"><tr class=\"metadata_row\"><td class=\"metadata_label\">Title</td><td class=\"metadata_value\"><span dir=ltr>Classical Mythology</span></td></tr><tr class=\"metadata_row\"><td class=\"metadata_label\"><span dir=ltr>Authors</span></td><td class=\"metadata_value\"><a class=\"primary\" href=\"https://www.google.co.in/search?tbo=p&amp;tbm=bks&amp;q=inauthor:%22Mark+P.+O.+Morford%22&amp;source=gbs_metadata_r&amp;cad=7\"><span dir=ltr>Mark P. O. Morford</span></a>, <a class=\"primary\" href=\"https://www.google.co.in/search?tbo=p&amp;tbm=bks&amp;q=inauthor:%22Robert+J.+Lenardon%22&amp;source=gbs_metadata_r&amp;cad=7\"><span dir=ltr>Robert J. Lenardon</span></a></td></tr><tr class=\"metadata_row\"><td class=\"metadata_label\"><span dir=ltr>Edition</span></td><td class=\"metadata_value\"><span dir=ltr>illustrated</span></td></tr><tr class=\"metadata_row\"><td class=\"metadata_label\"><span dir=ltr>Publisher</span></td><td class=\"metadata_value\"><span dir=ltr>Oxford University Press, 1999</span></td></tr><tr class=\"metadata_row\"><td class=\"metadata_label\"><span dir=ltr>ISBN</span></td><td class=\"metadata_value\"><span dir=ltr>0195143388, 9780195143386</span></td></tr><tr class=\"metadata_row\"><td class=\"metadata_label\"><span dir=ltr>Length</span></td><td class=\"metadata_value\"><span dir=ltr>636 pages</span></td></tr><tr class=\"metadata_row\"><td>&nbsp</td><td>&nbsp</td></tr><tr class=\"metadata_row\"><td class=\"metadata_label\"><span dir=ltr>Export Citation</span></td><td class=\"metadata_value\"><a class=\"gb-button \" href=\"https://books.google.co.in/books/download/Classical_Mythology.bibtex?id=ecGXcMRAPXcC&amp;output=bibtex\"><span dir=ltr>BiBTeX</span></a>&nbsp;<a class=\"gb-button \" href=\"https://books.google.co.in/books/download/Classical_Mythology.enw?id=ecGXcMRAPXcC&amp;output=enw\"><span dir=ltr>EndNote</span></a>&nbsp;<a class=\"gb-button \" href=\"https://books.google.co.in/books/download/Classical_Mythology.ris?id=ecGXcMRAPXcC&amp;output=ris\"><span dir=ltr>RefMan</span></a></td></tr></table></div><div style=\"clear:both\"></div></div></div><script>_OC_addFlags({Host:\"https://books.google.co.in/\", IsBooksUnifiedLeftNavEnabled:1, IsBooksRentalEnabled:1, IsZipitFolderCollectionEnabled:1, IsBrowsingHistoryEnabled:1});_OC_Run({\"is_cobrand\":false,\"sign_in_url\":\"https://www.google.com/accounts/Login?service=print\\\\u0026continue=https://books.google.co.in/books%3Fid%3DecGXcMRAPXcC%26newbks%3D0%26hl%3Den%26redir_esc%3Dy\\\\u0026hl=en\"}, {\"volume_id\":\"ecGXcMRAPXcC\",\"is_ebook\":false,\"volumeresult\":{\"has_flowing_text\":true,\"has_scanned_text\":true,\"can_download_pdf\":false,\"can_download_epub\":false,\"is_pdf_drm_enabled\":false,\"is_epub_drm_enabled\":false},\"sample_url\":\"https://play.google.com/books/reader?id=ecGXcMRAPXcC\\\\u0026source=gbs_atb_hover\",\"is_browsable\":true,\"is_public_domain\":false}, {});</script><div id=\"footer_table\" style=\"font-size:83%;text-align:center;position:relative;top:20px;height:4.5em;margin-top:2em\"><div style=\"margin-bottom:8px\"><a href=\"/intl/en/googlebooks/about.html\"><nobr><nobr>About Google Books</nobr></nobr></a> - <a href=\"/intl/en/googlebooks/privacy.html\"><nobr><nobr>Privacy Policy</nobr></nobr></a> - <a href=\"/intl/en/googlebooks/tos.html\"><nobr><nobr>Terms&nbsp;of&nbsp;Service</nobr></nobr></a> - <a href=\"http://books.google.co.in/support/partner/?hl=en-IN\"><nobr><nobr>Information for Publishers</nobr></nobr></a> - <a href=\"http://books.google.co.in/support/answer/180577?hl=en-IN&amp;url=https://books.google.co.in/books?id=ecGXcMRAPXcC&amp;newbks=0&amp;hl=en&amp;redir_esc=y&amp;v=ecGXcMRAPXcC&amp;is=atb\"><nobr><nobr>Report an issue</nobr></nobr></a> - <a href=\"http://books.google.co.in/support/topic/4359341?hl=en-IN\"><nobr><nobr>Help</nobr></nobr></a> - <a href=\"https://www.google.co.in/\"><nobr><nobr>Google&nbsp;Home</nobr></nobr></a></div></div></div></div></div><script>(function() {var href = window.location.href;if (href.indexOf(\\'?\\') !== -1) {var parameters = href.split(\\'?\\')[1].split(\\'&\\');for (var i = 0; i < parameters.length; i++) {var param = parameters[i].split(\\'=\\');if (param[0] == \\'focus\\') {var elem = document.getElementById(param[1]);if (elem) {elem.focus();}}}}})();</script>'\n"
     ]
    }
   ],
   "source": [
    "proxy=q.get();\n",
    "\n",
    "res=requests.get(\"https://www.google.co.in/books/edition/Classical_Mythology/ecGXcMRAPXcC?hl=en&gbpv=0\",\n",
    "                proxies={\n",
    "                    \"http\":proxy,\n",
    "                    \"https:\":proxy\n",
    "                })\n",
    "soup = BeautifulSoup(res.content, 'html5lib') # If this line causes an error, run 'pip install html5lib' or install html5lib\n",
    "print(res.content)"
   ]
  },
  {
   "cell_type": "code",
   "execution_count": null,
   "id": "fb0e5c9a",
   "metadata": {},
   "outputs": [],
   "source": []
  }
 ],
 "metadata": {
  "kernelspec": {
   "display_name": "Python 3.9 (pytorch)",
   "language": "python",
   "name": "pytorch"
  },
  "language_info": {
   "codemirror_mode": {
    "name": "ipython",
    "version": 3
   },
   "file_extension": ".py",
   "mimetype": "text/x-python",
   "name": "python",
   "nbconvert_exporter": "python",
   "pygments_lexer": "ipython3",
   "version": "3.9.17"
  }
 },
 "nbformat": 4,
 "nbformat_minor": 5
}
